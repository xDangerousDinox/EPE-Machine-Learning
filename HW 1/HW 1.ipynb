{
 "cells": [
  {
   "cell_type": "code",
   "execution_count": 1,
   "id": "86b8f7db",
   "metadata": {},
   "outputs": [],
   "source": [
    "import tensorflow as tf\n",
    "import numpy as np"
   ]
  },
  {
   "cell_type": "code",
   "execution_count": 2,
   "id": "603e94d2",
   "metadata": {},
   "outputs": [],
   "source": [
    "NUM_ITER = 100\n",
    "lr = 0.1"
   ]
  },
  {
   "cell_type": "code",
   "execution_count": 3,
   "id": "59ba0abc",
   "metadata": {},
   "outputs": [
    {
     "data": {
      "text/plain": [
       "'1.15.0'"
      ]
     },
     "execution_count": 3,
     "metadata": {},
     "output_type": "execute_result"
    }
   ],
   "source": [
    "tf.__version__"
   ]
  },
  {
   "cell_type": "code",
   "execution_count": 4,
   "id": "5fee046f",
   "metadata": {},
   "outputs": [],
   "source": [
    "#Problem 1.1\n",
    "x_train = np.array([[0, 0], [0, 1], [1, 0], [1, 1]], np.float32)\n",
    "x_test = [[0, 0], [0, 1], [1, 0], [1, 1]]\n",
    "\n",
    "y_train = np.array([0, 1, 1, 0], np.float32)\n",
    "y_train = np.reshape(y_train, [4, 1])\n",
    "y_test = [0, 1, 1, 0]"
   ]
  },
  {
   "cell_type": "code",
   "execution_count": 5,
   "id": "f5a312d2",
   "metadata": {},
   "outputs": [
    {
     "name": "stdout",
     "output_type": "stream",
     "text": [
      "WARNING:tensorflow:From C:\\Users\\ahoyt\\AppData\\Local\\Temp/ipykernel_7668/1947386629.py:1: The name tf.placeholder is deprecated. Please use tf.compat.v1.placeholder instead.\n",
      "\n",
      "WARNING:tensorflow:From C:\\Users\\ahoyt\\AppData\\Local\\Temp/ipykernel_7668/1947386629.py:3: The name tf.random_normal is deprecated. Please use tf.random.normal instead.\n",
      "\n"
     ]
    }
   ],
   "source": [
    "X = tf.placeholder(tf.float32, shape=[4, 2], name='X')\n",
    "Y = tf.placeholder(tf.float32, shape=[4, 1], name='Y')\n",
    "W = tf.Variable(tf.random_normal([2, 1]), tf.float32, name=\"W\")\n",
    "b = tf.Variable(tf.zeros([1, 1]), tf.float32, name=\"b\")"
   ]
  },
  {
   "cell_type": "code",
   "execution_count": 6,
   "id": "8a7df64d",
   "metadata": {},
   "outputs": [],
   "source": [
    "Y_hat = tf.round(tf.sigmoid(tf.add(tf.matmul(X, W), b)))\n",
    "error = Y-Y_hat\n",
    "\n",
    "dW = tf.matmul(tf.transpose(X), error)\n",
    "db = tf.reduce_sum(error, 0)\n",
    "W_ = W + lr*dW\n",
    "b_ = b + lr*db\n",
    "\n",
    "step = tf.group(W.assign(W_), b.assign(b_))"
   ]
  },
  {
   "cell_type": "code",
   "execution_count": 7,
   "id": "c26726cf",
   "metadata": {},
   "outputs": [
    {
     "name": "stdout",
     "output_type": "stream",
     "text": [
      "WARNING:tensorflow:From C:\\Users\\ahoyt\\AppData\\Local\\Temp/ipykernel_7668/1077392857.py:1: The name tf.global_variables_initializer is deprecated. Please use tf.compat.v1.global_variables_initializer instead.\n",
      "\n"
     ]
    }
   ],
   "source": [
    "init = tf.global_variables_initializer()"
   ]
  },
  {
   "cell_type": "code",
   "execution_count": 8,
   "id": "9b5f453f",
   "metadata": {},
   "outputs": [
    {
     "name": "stdout",
     "output_type": "stream",
     "text": [
      "WARNING:tensorflow:From C:\\Users\\ahoyt\\AppData\\Local\\Temp/ipykernel_7668/3894084004.py:1: The name tf.Session is deprecated. Please use tf.compat.v1.Session instead.\n",
      "\n"
     ]
    }
   ],
   "source": [
    "with tf.Session() as sess:\n",
    "    sess.run(init)\n",
    "    for i in range(NUM_ITER):\n",
    "        sess.run(step, feed_dict = {X:x_train, Y:y_train})\n",
    "        \n",
    "    W = np.squeeze(sess.run(W))\n",
    "    b = np.squeeze(sess.run(b))"
   ]
  },
  {
   "cell_type": "code",
   "execution_count": 9,
   "id": "de5f821a",
   "metadata": {},
   "outputs": [
    {
     "name": "stdout",
     "output_type": "stream",
     "text": [
      "[0.04828539 0.07341506]\n",
      "0.09999999\n"
     ]
    }
   ],
   "source": [
    "print(W)\n",
    "print(b)"
   ]
  },
  {
   "cell_type": "code",
   "execution_count": null,
   "id": "5186fcc4",
   "metadata": {},
   "outputs": [],
   "source": []
  },
  {
   "cell_type": "code",
   "execution_count": null,
   "id": "5b869175",
   "metadata": {},
   "outputs": [],
   "source": []
  }
 ],
 "metadata": {
  "kernelspec": {
   "display_name": "Python 3 (ipykernel)",
   "language": "python",
   "name": "python3"
  },
  "language_info": {
   "codemirror_mode": {
    "name": "ipython",
    "version": 3
   },
   "file_extension": ".py",
   "mimetype": "text/x-python",
   "name": "python",
   "nbconvert_exporter": "python",
   "pygments_lexer": "ipython3",
   "version": "3.7.11"
  }
 },
 "nbformat": 4,
 "nbformat_minor": 5
}
