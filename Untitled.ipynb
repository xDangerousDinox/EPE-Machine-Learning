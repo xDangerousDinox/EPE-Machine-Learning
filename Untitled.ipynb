{
 "cells": [
  {
   "cell_type": "code",
   "execution_count": 3,
   "id": "94855af7",
   "metadata": {},
   "outputs": [],
   "source": [
    "from __future__ import absolute_import, division, print_function, unicode_literals\n",
    "import tensorflow as tf\n",
    "import numpy as np\n",
    "import pandas as pd\n",
    "from pandas import get_dummies\n",
    "import matplotlib.pyplot as plt\n",
    "from sklearn.model_selection import train_test_split\n",
    "\n"
   ]
  },
  {
   "cell_type": "code",
   "execution_count": 4,
   "id": "270a5696",
   "metadata": {},
   "outputs": [],
   "source": [
    "CSV_COLUMN_NAMES = ['SepalLength', 'SepalWidth', 'PetalLength', 'PetalWidth', 'Species']\n",
    "SPECIES = ['Setosa', 'Versicolor', 'Virginica']"
   ]
  },
  {
   "cell_type": "code",
   "execution_count": 5,
   "id": "a97c7fc9",
   "metadata": {},
   "outputs": [
    {
     "name": "stdout",
     "output_type": "stream",
     "text": [
      "Downloading data from https://storage.googleapis.com/download.tensorflow.org/data/iris_training.csv\n",
      "16384/2194 [================================================================================================================================================================================================================================] - 0s 0s/step\n",
      "Downloading data from https://storage.googleapis.com/download.tensorflow.org/data/iris_test.csv\n",
      "16384/573 [=========================================================================================================================================================================================================================================================================================================================================================================================================================================================================================================================================================================================================================================================================================================================================================================================================================================================================================] - 0s 0s/step\n"
     ]
    }
   ],
   "source": [
    "train_path = tf.keras.utils.get_file(\n",
    "    \"iris_training.csv\", \"https://storage.googleapis.com/download.tensorflow.org/data/iris_training.csv\")\n",
    "test_path = tf.keras.utils.get_file(\n",
    "    \"iris_test.csv\", \"https://storage.googleapis.com/download.tensorflow.org/data/iris_test.csv\")\n",
    "\n",
    "train = pd.read_csv(train_path, names=CSV_COLUMN_NAMES, header=0)\n",
    "test = pd.read_csv(test_path, names=CSV_COLUMN_NAMES, header=0)"
   ]
  },
  {
   "cell_type": "code",
   "execution_count": 6,
   "id": "92d12080",
   "metadata": {},
   "outputs": [
    {
     "data": {
      "text/html": [
       "<div>\n",
       "<style scoped>\n",
       "    .dataframe tbody tr th:only-of-type {\n",
       "        vertical-align: middle;\n",
       "    }\n",
       "\n",
       "    .dataframe tbody tr th {\n",
       "        vertical-align: top;\n",
       "    }\n",
       "\n",
       "    .dataframe thead th {\n",
       "        text-align: right;\n",
       "    }\n",
       "</style>\n",
       "<table border=\"1\" class=\"dataframe\">\n",
       "  <thead>\n",
       "    <tr style=\"text-align: right;\">\n",
       "      <th></th>\n",
       "      <th>SepalLength</th>\n",
       "      <th>SepalWidth</th>\n",
       "      <th>PetalLength</th>\n",
       "      <th>PetalWidth</th>\n",
       "      <th>Species</th>\n",
       "    </tr>\n",
       "  </thead>\n",
       "  <tbody>\n",
       "    <tr>\n",
       "      <th>0</th>\n",
       "      <td>6.4</td>\n",
       "      <td>2.8</td>\n",
       "      <td>5.6</td>\n",
       "      <td>2.2</td>\n",
       "      <td>2</td>\n",
       "    </tr>\n",
       "    <tr>\n",
       "      <th>1</th>\n",
       "      <td>5.0</td>\n",
       "      <td>2.3</td>\n",
       "      <td>3.3</td>\n",
       "      <td>1.0</td>\n",
       "      <td>1</td>\n",
       "    </tr>\n",
       "    <tr>\n",
       "      <th>2</th>\n",
       "      <td>4.9</td>\n",
       "      <td>2.5</td>\n",
       "      <td>4.5</td>\n",
       "      <td>1.7</td>\n",
       "      <td>2</td>\n",
       "    </tr>\n",
       "    <tr>\n",
       "      <th>3</th>\n",
       "      <td>4.9</td>\n",
       "      <td>3.1</td>\n",
       "      <td>1.5</td>\n",
       "      <td>0.1</td>\n",
       "      <td>0</td>\n",
       "    </tr>\n",
       "    <tr>\n",
       "      <th>4</th>\n",
       "      <td>5.7</td>\n",
       "      <td>3.8</td>\n",
       "      <td>1.7</td>\n",
       "      <td>0.3</td>\n",
       "      <td>0</td>\n",
       "    </tr>\n",
       "  </tbody>\n",
       "</table>\n",
       "</div>"
      ],
      "text/plain": [
       "   SepalLength  SepalWidth  PetalLength  PetalWidth  Species\n",
       "0          6.4         2.8          5.6         2.2        2\n",
       "1          5.0         2.3          3.3         1.0        1\n",
       "2          4.9         2.5          4.5         1.7        2\n",
       "3          4.9         3.1          1.5         0.1        0\n",
       "4          5.7         3.8          1.7         0.3        0"
      ]
     },
     "execution_count": 6,
     "metadata": {},
     "output_type": "execute_result"
    }
   ],
   "source": [
    "train.head()"
   ]
  },
  {
   "cell_type": "code",
   "execution_count": 7,
   "id": "4f320826",
   "metadata": {},
   "outputs": [
    {
     "data": {
      "text/html": [
       "<div>\n",
       "<style scoped>\n",
       "    .dataframe tbody tr th:only-of-type {\n",
       "        vertical-align: middle;\n",
       "    }\n",
       "\n",
       "    .dataframe tbody tr th {\n",
       "        vertical-align: top;\n",
       "    }\n",
       "\n",
       "    .dataframe thead th {\n",
       "        text-align: right;\n",
       "    }\n",
       "</style>\n",
       "<table border=\"1\" class=\"dataframe\">\n",
       "  <thead>\n",
       "    <tr style=\"text-align: right;\">\n",
       "      <th></th>\n",
       "      <th>SepalLength</th>\n",
       "      <th>SepalWidth</th>\n",
       "      <th>PetalLength</th>\n",
       "      <th>PetalWidth</th>\n",
       "    </tr>\n",
       "  </thead>\n",
       "  <tbody>\n",
       "    <tr>\n",
       "      <th>0</th>\n",
       "      <td>6.4</td>\n",
       "      <td>2.8</td>\n",
       "      <td>5.6</td>\n",
       "      <td>2.2</td>\n",
       "    </tr>\n",
       "    <tr>\n",
       "      <th>1</th>\n",
       "      <td>5.0</td>\n",
       "      <td>2.3</td>\n",
       "      <td>3.3</td>\n",
       "      <td>1.0</td>\n",
       "    </tr>\n",
       "    <tr>\n",
       "      <th>2</th>\n",
       "      <td>4.9</td>\n",
       "      <td>2.5</td>\n",
       "      <td>4.5</td>\n",
       "      <td>1.7</td>\n",
       "    </tr>\n",
       "    <tr>\n",
       "      <th>3</th>\n",
       "      <td>4.9</td>\n",
       "      <td>3.1</td>\n",
       "      <td>1.5</td>\n",
       "      <td>0.1</td>\n",
       "    </tr>\n",
       "    <tr>\n",
       "      <th>4</th>\n",
       "      <td>5.7</td>\n",
       "      <td>3.8</td>\n",
       "      <td>1.7</td>\n",
       "      <td>0.3</td>\n",
       "    </tr>\n",
       "  </tbody>\n",
       "</table>\n",
       "</div>"
      ],
      "text/plain": [
       "   SepalLength  SepalWidth  PetalLength  PetalWidth\n",
       "0          6.4         2.8          5.6         2.2\n",
       "1          5.0         2.3          3.3         1.0\n",
       "2          4.9         2.5          4.5         1.7\n",
       "3          4.9         3.1          1.5         0.1\n",
       "4          5.7         3.8          1.7         0.3"
      ]
     },
     "execution_count": 7,
     "metadata": {},
     "output_type": "execute_result"
    }
   ],
   "source": [
    "train_y = train.pop('Species')\n",
    "test_y = test.pop('Species')\n",
    "train.head() # the species column is now gone"
   ]
  },
  {
   "cell_type": "code",
   "execution_count": 8,
   "id": "3e822e7d",
   "metadata": {},
   "outputs": [
    {
     "data": {
      "text/plain": [
       "(120, 4)"
      ]
     },
     "execution_count": 8,
     "metadata": {},
     "output_type": "execute_result"
    }
   ],
   "source": [
    "train.shape"
   ]
  },
  {
   "cell_type": "code",
   "execution_count": 9,
   "id": "95ddda4b",
   "metadata": {},
   "outputs": [],
   "source": [
    "def input_fn(features, labels, training=True, batch_size=256):\n",
    "    dataset = tf.data.Dataset.from_tensor_slices((dict(features), labels))\n",
    "\n",
    "    if training:\n",
    "        dataset = dataset.shuffle(1000).repeat()\n",
    "    \n",
    "    return dataset.batch(batch_size)"
   ]
  },
  {
   "cell_type": "code",
   "execution_count": 10,
   "id": "86b633c8",
   "metadata": {},
   "outputs": [
    {
     "name": "stdout",
     "output_type": "stream",
     "text": [
      "[NumericColumn(key='SepalLength', shape=(1,), default_value=None, dtype=tf.float32, normalizer_fn=None), NumericColumn(key='SepalWidth', shape=(1,), default_value=None, dtype=tf.float32, normalizer_fn=None), NumericColumn(key='PetalLength', shape=(1,), default_value=None, dtype=tf.float32, normalizer_fn=None), NumericColumn(key='PetalWidth', shape=(1,), default_value=None, dtype=tf.float32, normalizer_fn=None)]\n"
     ]
    }
   ],
   "source": [
    "my_feature_columns = []\n",
    "for key in train.keys():\n",
    "    my_feature_columns.append(tf.feature_column.numeric_column(key=key))\n",
    "print(my_feature_columns)"
   ]
  },
  {
   "cell_type": "code",
   "execution_count": 11,
   "id": "e126206d",
   "metadata": {},
   "outputs": [
    {
     "name": "stdout",
     "output_type": "stream",
     "text": [
      "INFO:tensorflow:Using default config.\n",
      "WARNING:tensorflow:Using temporary folder as model directory: C:\\Users\\ahoyt\\AppData\\Local\\Temp\\tmpxh1ci_0g\n",
      "INFO:tensorflow:Using config: {'_model_dir': 'C:\\\\Users\\\\ahoyt\\\\AppData\\\\Local\\\\Temp\\\\tmpxh1ci_0g', '_tf_random_seed': None, '_save_summary_steps': 100, '_save_checkpoints_steps': None, '_save_checkpoints_secs': 600, '_session_config': allow_soft_placement: true\n",
      "graph_options {\n",
      "  rewrite_options {\n",
      "    meta_optimizer_iterations: ONE\n",
      "  }\n",
      "}\n",
      ", '_keep_checkpoint_max': 5, '_keep_checkpoint_every_n_hours': 10000, '_log_step_count_steps': 100, '_train_distribute': None, '_device_fn': None, '_protocol': None, '_eval_distribute': None, '_experimental_distribute': None, '_experimental_max_worker_delay_secs': None, '_session_creation_timeout_secs': 7200, '_checkpoint_save_graph_def': True, '_service': None, '_cluster_spec': ClusterSpec({}), '_task_type': 'worker', '_task_id': 0, '_global_id_in_cluster': 0, '_master': '', '_evaluation_master': '', '_is_chief': True, '_num_ps_replicas': 0, '_num_worker_replicas': 1}\n"
     ]
    }
   ],
   "source": [
    "classifier = tf.estimator.DNNClassifier(\n",
    "    feature_columns=my_feature_columns,\n",
    "    hidden_units=[30, 10],\n",
    "    n_classes=3)"
   ]
  },
  {
   "cell_type": "code",
   "execution_count": 12,
   "id": "d2167026",
   "metadata": {},
   "outputs": [
    {
     "name": "stdout",
     "output_type": "stream",
     "text": [
      "WARNING:tensorflow:From C:\\Users\\ahoyt\\anaconda3\\envs\\ML\\lib\\site-packages\\tensorflow\\python\\training\\training_util.py:236: Variable.initialized_value (from tensorflow.python.ops.variables) is deprecated and will be removed in a future version.\n",
      "Instructions for updating:\n",
      "Use Variable.read_value. Variables in 2.X are initialized automatically both in eager and graph (inside tf.defun) contexts.\n",
      "INFO:tensorflow:Calling model_fn.\n",
      "WARNING:tensorflow:From C:\\Users\\ahoyt\\anaconda3\\envs\\ML\\lib\\site-packages\\keras\\optimizer_v2\\adagrad.py:84: calling Constant.__init__ (from tensorflow.python.ops.init_ops) with dtype is deprecated and will be removed in a future version.\n",
      "Instructions for updating:\n",
      "Call initializer instance with the dtype argument instead of passing it to the constructor\n",
      "INFO:tensorflow:Done calling model_fn.\n",
      "INFO:tensorflow:Create CheckpointSaverHook.\n",
      "INFO:tensorflow:Graph was finalized.\n",
      "INFO:tensorflow:Running local_init_op.\n",
      "INFO:tensorflow:Done running local_init_op.\n",
      "INFO:tensorflow:Calling checkpoint listeners before saving checkpoint 0...\n",
      "INFO:tensorflow:Saving checkpoints for 0 into C:\\Users\\ahoyt\\AppData\\Local\\Temp\\tmpxh1ci_0g\\model.ckpt.\n",
      "INFO:tensorflow:Calling checkpoint listeners after saving checkpoint 0...\n",
      "INFO:tensorflow:loss = 1.273884, step = 0\n",
      "INFO:tensorflow:global_step/sec: 202.872\n",
      "INFO:tensorflow:loss = 1.1359978, step = 100 (0.497 sec)\n",
      "INFO:tensorflow:global_step/sec: 288.858\n",
      "INFO:tensorflow:loss = 1.0944452, step = 200 (0.354 sec)\n",
      "INFO:tensorflow:global_step/sec: 231.468\n",
      "INFO:tensorflow:loss = 1.0832402, step = 300 (0.440 sec)\n",
      "INFO:tensorflow:global_step/sec: 225.12\n",
      "INFO:tensorflow:loss = 1.0722517, step = 400 (0.433 sec)\n",
      "INFO:tensorflow:global_step/sec: 295.597\n",
      "INFO:tensorflow:loss = 1.063219, step = 500 (0.341 sec)\n",
      "INFO:tensorflow:global_step/sec: 219.625\n",
      "INFO:tensorflow:loss = 1.0530953, step = 600 (0.451 sec)\n",
      "INFO:tensorflow:global_step/sec: 270.768\n",
      "INFO:tensorflow:loss = 1.0369365, step = 700 (0.369 sec)\n",
      "INFO:tensorflow:global_step/sec: 225.86\n",
      "INFO:tensorflow:loss = 1.0257266, step = 800 (0.442 sec)\n",
      "INFO:tensorflow:global_step/sec: 268.59\n",
      "INFO:tensorflow:loss = 1.0197594, step = 900 (0.374 sec)\n",
      "INFO:tensorflow:global_step/sec: 228.374\n",
      "INFO:tensorflow:loss = 1.0156667, step = 1000 (0.446 sec)\n",
      "INFO:tensorflow:global_step/sec: 192.132\n",
      "INFO:tensorflow:loss = 1.0027974, step = 1100 (0.515 sec)\n",
      "INFO:tensorflow:global_step/sec: 171.514\n",
      "INFO:tensorflow:loss = 0.99328154, step = 1200 (0.580 sec)\n",
      "INFO:tensorflow:global_step/sec: 261.243\n",
      "INFO:tensorflow:loss = 0.9811468, step = 1300 (0.376 sec)\n",
      "INFO:tensorflow:global_step/sec: 230.554\n",
      "INFO:tensorflow:loss = 0.9719068, step = 1400 (0.440 sec)\n",
      "INFO:tensorflow:global_step/sec: 237.294\n",
      "INFO:tensorflow:loss = 0.96437204, step = 1500 (0.426 sec)\n",
      "INFO:tensorflow:global_step/sec: 263.44\n",
      "INFO:tensorflow:loss = 0.9552253, step = 1600 (0.368 sec)\n",
      "INFO:tensorflow:global_step/sec: 261.424\n",
      "INFO:tensorflow:loss = 0.9479064, step = 1700 (0.388 sec)\n",
      "INFO:tensorflow:global_step/sec: 274.473\n",
      "INFO:tensorflow:loss = 0.93896604, step = 1800 (0.378 sec)\n",
      "INFO:tensorflow:global_step/sec: 212.13\n",
      "INFO:tensorflow:loss = 0.9216604, step = 1900 (0.458 sec)\n",
      "INFO:tensorflow:global_step/sec: 283.495\n",
      "INFO:tensorflow:loss = 0.91630137, step = 2000 (0.353 sec)\n",
      "INFO:tensorflow:global_step/sec: 213.461\n",
      "INFO:tensorflow:loss = 0.90022963, step = 2100 (0.473 sec)\n",
      "INFO:tensorflow:global_step/sec: 246.781\n",
      "INFO:tensorflow:loss = 0.8895228, step = 2200 (0.404 sec)\n",
      "INFO:tensorflow:global_step/sec: 199.131\n",
      "INFO:tensorflow:loss = 0.87821543, step = 2300 (0.500 sec)\n",
      "INFO:tensorflow:global_step/sec: 262.273\n",
      "INFO:tensorflow:loss = 0.8645667, step = 2400 (0.390 sec)\n",
      "INFO:tensorflow:global_step/sec: 190.498\n",
      "INFO:tensorflow:loss = 0.84970987, step = 2500 (0.516 sec)\n",
      "INFO:tensorflow:global_step/sec: 263.12\n",
      "INFO:tensorflow:loss = 0.8482262, step = 2600 (0.384 sec)\n",
      "INFO:tensorflow:global_step/sec: 172.326\n",
      "INFO:tensorflow:loss = 0.827388, step = 2700 (0.578 sec)\n",
      "INFO:tensorflow:global_step/sec: 201.896\n",
      "INFO:tensorflow:loss = 0.8235047, step = 2800 (0.497 sec)\n",
      "INFO:tensorflow:global_step/sec: 203.746\n",
      "INFO:tensorflow:loss = 0.8058409, step = 2900 (0.488 sec)\n",
      "INFO:tensorflow:global_step/sec: 262.362\n",
      "INFO:tensorflow:loss = 0.79676914, step = 3000 (0.373 sec)\n",
      "INFO:tensorflow:global_step/sec: 272.974\n",
      "INFO:tensorflow:loss = 0.7778574, step = 3100 (0.375 sec)\n",
      "INFO:tensorflow:global_step/sec: 270.331\n",
      "INFO:tensorflow:loss = 0.7680855, step = 3200 (0.370 sec)\n",
      "INFO:tensorflow:global_step/sec: 206.639\n",
      "INFO:tensorflow:loss = 0.7642543, step = 3300 (0.491 sec)\n",
      "INFO:tensorflow:global_step/sec: 194.392\n",
      "INFO:tensorflow:loss = 0.74982977, step = 3400 (0.509 sec)\n",
      "INFO:tensorflow:global_step/sec: 230.522\n",
      "INFO:tensorflow:loss = 0.7443401, step = 3500 (0.431 sec)\n",
      "INFO:tensorflow:global_step/sec: 279.432\n",
      "INFO:tensorflow:loss = 0.721805, step = 3600 (0.358 sec)\n",
      "INFO:tensorflow:global_step/sec: 230.946\n",
      "INFO:tensorflow:loss = 0.70889974, step = 3700 (0.433 sec)\n",
      "INFO:tensorflow:global_step/sec: 268.031\n",
      "INFO:tensorflow:loss = 0.6975173, step = 3800 (0.380 sec)\n",
      "INFO:tensorflow:global_step/sec: 184.561\n",
      "INFO:tensorflow:loss = 0.6866501, step = 3900 (0.537 sec)\n",
      "INFO:tensorflow:global_step/sec: 191.763\n",
      "INFO:tensorflow:loss = 0.6776538, step = 4000 (0.523 sec)\n",
      "INFO:tensorflow:global_step/sec: 212.13\n",
      "INFO:tensorflow:loss = 0.6684068, step = 4100 (0.468 sec)\n",
      "INFO:tensorflow:global_step/sec: 218.872\n",
      "INFO:tensorflow:loss = 0.6563009, step = 4200 (0.465 sec)\n",
      "INFO:tensorflow:global_step/sec: 201.522\n",
      "INFO:tensorflow:loss = 0.65085036, step = 4300 (0.491 sec)\n",
      "INFO:tensorflow:global_step/sec: 154.714\n",
      "INFO:tensorflow:loss = 0.62968147, step = 4400 (0.651 sec)\n",
      "INFO:tensorflow:global_step/sec: 164.921\n",
      "INFO:tensorflow:loss = 0.6272545, step = 4500 (0.607 sec)\n",
      "INFO:tensorflow:global_step/sec: 168.108\n",
      "INFO:tensorflow:loss = 0.62132394, step = 4600 (0.586 sec)\n",
      "INFO:tensorflow:global_step/sec: 267.238\n",
      "INFO:tensorflow:loss = 0.5915935, step = 4700 (0.373 sec)\n",
      "INFO:tensorflow:global_step/sec: 272.67\n",
      "INFO:tensorflow:loss = 0.5938281, step = 4800 (0.369 sec)\n",
      "INFO:tensorflow:global_step/sec: 272.266\n",
      "INFO:tensorflow:loss = 0.5917165, step = 4900 (0.374 sec)\n",
      "INFO:tensorflow:Calling checkpoint listeners before saving checkpoint 5000...\n",
      "INFO:tensorflow:Saving checkpoints for 5000 into C:\\Users\\ahoyt\\AppData\\Local\\Temp\\tmpxh1ci_0g\\model.ckpt.\n",
      "INFO:tensorflow:Calling checkpoint listeners after saving checkpoint 5000...\n",
      "INFO:tensorflow:Loss for final step: 0.5673072.\n"
     ]
    },
    {
     "data": {
      "text/plain": [
       "<tensorflow_estimator.python.estimator.canned.dnn.DNNClassifierV2 at 0x1df22c10408>"
      ]
     },
     "execution_count": 12,
     "metadata": {},
     "output_type": "execute_result"
    }
   ],
   "source": [
    "classifier.train(\n",
    "    input_fn=lambda: input_fn(train, train_y, training=True),\n",
    "    steps=5000)"
   ]
  },
  {
   "cell_type": "code",
   "execution_count": 13,
   "id": "4a065c4f",
   "metadata": {},
   "outputs": [
    {
     "name": "stdout",
     "output_type": "stream",
     "text": [
      "INFO:tensorflow:Calling model_fn.\n",
      "INFO:tensorflow:Done calling model_fn.\n",
      "INFO:tensorflow:Starting evaluation at 2021-11-01T15:15:10\n",
      "INFO:tensorflow:Graph was finalized.\n",
      "INFO:tensorflow:Restoring parameters from C:\\Users\\ahoyt\\AppData\\Local\\Temp\\tmpxh1ci_0g\\model.ckpt-5000\n",
      "INFO:tensorflow:Running local_init_op.\n",
      "INFO:tensorflow:Done running local_init_op.\n",
      "INFO:tensorflow:Inference Time : 0.54398s\n",
      "INFO:tensorflow:Finished evaluation at 2021-11-01-15:15:11\n",
      "INFO:tensorflow:Saving dict for global step 5000: accuracy = 0.93333334, average_loss = 0.63262093, global_step = 5000, loss = 0.63262093\n",
      "INFO:tensorflow:Saving 'checkpoint_path' summary for global step 5000: C:\\Users\\ahoyt\\AppData\\Local\\Temp\\tmpxh1ci_0g\\model.ckpt-5000\n",
      "\n",
      "Test set accuracy: 0.933\n",
      "\n"
     ]
    }
   ],
   "source": [
    "eval_result = classifier.evaluate(\n",
    "    input_fn=lambda: input_fn(test, test_y, training=False))\n",
    "\n",
    "print('\\nTest set accuracy: {accuracy:0.3f}\\n'.format(**eval_result))"
   ]
  },
  {
   "cell_type": "code",
   "execution_count": 14,
   "id": "8a5cf3a1",
   "metadata": {},
   "outputs": [
    {
     "name": "stdout",
     "output_type": "stream",
     "text": [
      "Please type numeric values as prompted.\n",
      "SepalLength: 6\n",
      "SepalLength: 3\n",
      "SepalLength: 6\n",
      "SepalLength: 2\n",
      "SepalLength: 6.0\n",
      "SepalWidth: 3.0\n",
      "PetalLength: 6.0\n",
      "PetalWidth: 2.0\n",
      "INFO:tensorflow:Calling model_fn.\n",
      "INFO:tensorflow:Done calling model_fn.\n",
      "INFO:tensorflow:Graph was finalized.\n",
      "INFO:tensorflow:Restoring parameters from C:\\Users\\ahoyt\\AppData\\Local\\Temp\\tmpxh1ci_0g\\model.ckpt-5000\n",
      "INFO:tensorflow:Running local_init_op.\n",
      "INFO:tensorflow:Done running local_init_op.\n",
      "Prediction is \"Virginica\" (72.7%)\n"
     ]
    }
   ],
   "source": [
    "def input_fn(features, batch_size=256):\n",
    "    # Convert the inputs to a Dataset without labels.\n",
    "    return tf.data.Dataset.from_tensor_slices(dict(features)).batch(batch_size)\n",
    "\n",
    "features = ['SepalLength', 'SepalWidth', 'PetalLength', 'PetalWidth']\n",
    "predict = {}\n",
    "\n",
    "print(\"Please type numeric values as prompted.\")\n",
    "for feature in features:\n",
    "  valid = True\n",
    "  while valid: \n",
    "    val = input(feature + \": \")\n",
    "    if not val.isdigit(): valid = False\n",
    "\n",
    "  predict[feature] = [float(val)]\n",
    "\n",
    "predictions = classifier.predict(input_fn=lambda: input_fn(predict))\n",
    "for pred_dict in predictions:\n",
    "    class_id = pred_dict['class_ids'][0]\n",
    "    probability = pred_dict['probabilities'][class_id]\n",
    "\n",
    "    print('Prediction is \"{}\" ({:.1f}%)'.format(\n",
    "        SPECIES[class_id], 100 * probability))\n"
   ]
  },
  {
   "cell_type": "code",
   "execution_count": null,
   "id": "99e23a6a",
   "metadata": {},
   "outputs": [],
   "source": []
  }
 ],
 "metadata": {
  "kernelspec": {
   "display_name": "Python 3 (ipykernel)",
   "language": "python",
   "name": "python3"
  },
  "language_info": {
   "codemirror_mode": {
    "name": "ipython",
    "version": 3
   },
   "file_extension": ".py",
   "mimetype": "text/x-python",
   "name": "python",
   "nbconvert_exporter": "python",
   "pygments_lexer": "ipython3",
   "version": "3.7.11"
  }
 },
 "nbformat": 4,
 "nbformat_minor": 5
}
