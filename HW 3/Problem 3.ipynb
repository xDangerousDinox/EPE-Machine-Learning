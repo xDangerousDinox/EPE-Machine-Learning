{
 "cells": [
  {
   "cell_type": "code",
   "execution_count": 1,
   "id": "a5531b79",
   "metadata": {},
   "outputs": [
    {
     "data": {
      "text/html": [
       "<style>.container { width:100% !important; }</style>"
      ],
      "text/plain": [
       "<IPython.core.display.HTML object>"
      ]
     },
     "metadata": {},
     "output_type": "display_data"
    }
   ],
   "source": [
    "from IPython.core.display import display, HTML\n",
    "display(HTML(\"<style>.container { width:100% !important; }</style>\"))"
   ]
  },
  {
   "cell_type": "code",
   "execution_count": 2,
   "id": "a6ee0999",
   "metadata": {},
   "outputs": [],
   "source": [
    "import numpy as np\n",
    "import matplotlib.pyplot as plt\n",
    "import pandas as pd\n",
    "import datetime\n",
    "from sklearn.preprocessing import MinMaxScaler\n",
    "import tensorflow as tf"
   ]
  },
  {
   "cell_type": "code",
   "execution_count": 3,
   "id": "6774f1d2",
   "metadata": {},
   "outputs": [],
   "source": [
    "data = pd.read_csv(\"TSLA.csv\")\n",
    "data = data.iloc[:, 1:]"
   ]
  },
  {
   "cell_type": "code",
   "execution_count": 4,
   "id": "1fbb4285",
   "metadata": {},
   "outputs": [
    {
     "data": {
      "text/html": [
       "<div>\n",
       "<style scoped>\n",
       "    .dataframe tbody tr th:only-of-type {\n",
       "        vertical-align: middle;\n",
       "    }\n",
       "\n",
       "    .dataframe tbody tr th {\n",
       "        vertical-align: top;\n",
       "    }\n",
       "\n",
       "    .dataframe thead th {\n",
       "        text-align: right;\n",
       "    }\n",
       "</style>\n",
       "<table border=\"1\" class=\"dataframe\">\n",
       "  <thead>\n",
       "    <tr style=\"text-align: right;\">\n",
       "      <th></th>\n",
       "      <th>Open</th>\n",
       "      <th>High</th>\n",
       "      <th>Low</th>\n",
       "      <th>Close</th>\n",
       "      <th>Adj Close</th>\n",
       "      <th>Volume</th>\n",
       "    </tr>\n",
       "  </thead>\n",
       "  <tbody>\n",
       "    <tr>\n",
       "      <th>0</th>\n",
       "      <td>19.000000</td>\n",
       "      <td>25.000000</td>\n",
       "      <td>17.540001</td>\n",
       "      <td>23.889999</td>\n",
       "      <td>23.889999</td>\n",
       "      <td>18766300</td>\n",
       "    </tr>\n",
       "    <tr>\n",
       "      <th>1</th>\n",
       "      <td>25.790001</td>\n",
       "      <td>30.420000</td>\n",
       "      <td>23.299999</td>\n",
       "      <td>23.830000</td>\n",
       "      <td>23.830000</td>\n",
       "      <td>17187100</td>\n",
       "    </tr>\n",
       "    <tr>\n",
       "      <th>2</th>\n",
       "      <td>25.000000</td>\n",
       "      <td>25.920000</td>\n",
       "      <td>20.270000</td>\n",
       "      <td>21.959999</td>\n",
       "      <td>21.959999</td>\n",
       "      <td>8218800</td>\n",
       "    </tr>\n",
       "    <tr>\n",
       "      <th>3</th>\n",
       "      <td>23.000000</td>\n",
       "      <td>23.100000</td>\n",
       "      <td>18.709999</td>\n",
       "      <td>19.200001</td>\n",
       "      <td>19.200001</td>\n",
       "      <td>5139800</td>\n",
       "    </tr>\n",
       "    <tr>\n",
       "      <th>4</th>\n",
       "      <td>20.000000</td>\n",
       "      <td>20.000000</td>\n",
       "      <td>15.830000</td>\n",
       "      <td>16.110001</td>\n",
       "      <td>16.110001</td>\n",
       "      <td>6866900</td>\n",
       "    </tr>\n",
       "    <tr>\n",
       "      <th>...</th>\n",
       "      <td>...</td>\n",
       "      <td>...</td>\n",
       "      <td>...</td>\n",
       "      <td>...</td>\n",
       "      <td>...</td>\n",
       "      <td>...</td>\n",
       "    </tr>\n",
       "    <tr>\n",
       "      <th>2222</th>\n",
       "      <td>235.860001</td>\n",
       "      <td>243.979996</td>\n",
       "      <td>232.169998</td>\n",
       "      <td>241.470001</td>\n",
       "      <td>241.470001</td>\n",
       "      <td>16714500</td>\n",
       "    </tr>\n",
       "    <tr>\n",
       "      <th>2223</th>\n",
       "      <td>242.059998</td>\n",
       "      <td>244.210007</td>\n",
       "      <td>237.000000</td>\n",
       "      <td>238.690002</td>\n",
       "      <td>238.690002</td>\n",
       "      <td>9464600</td>\n",
       "    </tr>\n",
       "    <tr>\n",
       "      <th>2224</th>\n",
       "      <td>238.850006</td>\n",
       "      <td>240.000000</td>\n",
       "      <td>231.500000</td>\n",
       "      <td>234.009995</td>\n",
       "      <td>234.009995</td>\n",
       "      <td>10704400</td>\n",
       "    </tr>\n",
       "    <tr>\n",
       "      <th>2225</th>\n",
       "      <td>245.520004</td>\n",
       "      <td>247.130005</td>\n",
       "      <td>237.720001</td>\n",
       "      <td>244.100006</td>\n",
       "      <td>244.100006</td>\n",
       "      <td>18159300</td>\n",
       "    </tr>\n",
       "    <tr>\n",
       "      <th>2226</th>\n",
       "      <td>243.860001</td>\n",
       "      <td>256.609985</td>\n",
       "      <td>243.490005</td>\n",
       "      <td>255.029999</td>\n",
       "      <td>255.029999</td>\n",
       "      <td>23697300</td>\n",
       "    </tr>\n",
       "  </tbody>\n",
       "</table>\n",
       "<p>2227 rows × 6 columns</p>\n",
       "</div>"
      ],
      "text/plain": [
       "            Open        High         Low       Close   Adj Close    Volume\n",
       "0      19.000000   25.000000   17.540001   23.889999   23.889999  18766300\n",
       "1      25.790001   30.420000   23.299999   23.830000   23.830000  17187100\n",
       "2      25.000000   25.920000   20.270000   21.959999   21.959999   8218800\n",
       "3      23.000000   23.100000   18.709999   19.200001   19.200001   5139800\n",
       "4      20.000000   20.000000   15.830000   16.110001   16.110001   6866900\n",
       "...          ...         ...         ...         ...         ...       ...\n",
       "2222  235.860001  243.979996  232.169998  241.470001  241.470001  16714500\n",
       "2223  242.059998  244.210007  237.000000  238.690002  238.690002   9464600\n",
       "2224  238.850006  240.000000  231.500000  234.009995  234.009995  10704400\n",
       "2225  245.520004  247.130005  237.720001  244.100006  244.100006  18159300\n",
       "2226  243.860001  256.609985  243.490005  255.029999  255.029999  23697300\n",
       "\n",
       "[2227 rows x 6 columns]"
      ]
     },
     "execution_count": 4,
     "metadata": {},
     "output_type": "execute_result"
    }
   ],
   "source": [
    "data"
   ]
  },
  {
   "cell_type": "code",
   "execution_count": 5,
   "id": "04098365",
   "metadata": {},
   "outputs": [],
   "source": [
    "minmax_scaler = MinMaxScaler() \n",
    "data = minmax_scaler.fit_transform(data)\n",
    "# turns data into gaussian distribution better for neural networks when data is normalized"
   ]
  },
  {
   "cell_type": "code",
   "execution_count": 6,
   "id": "663f0a67",
   "metadata": {},
   "outputs": [
    {
     "data": {
      "text/plain": [
       "array([[0.00771826, 0.02244089, 0.00702583, 0.02191224, 0.02191224,\n",
       "        0.50337694],\n",
       "       [0.02604237, 0.0369725 , 0.02283393, 0.02174973, 0.02174973,\n",
       "        0.46074816],\n",
       "       [0.02391041, 0.02490751, 0.01451821, 0.01668472, 0.01668472,\n",
       "        0.21865873],\n",
       "       ...,\n",
       "       [0.60102552, 0.59887932, 0.59423113, 0.59103466, 0.59103466,\n",
       "        0.28575478],\n",
       "       [0.61902578, 0.61799564, 0.61130169, 0.61836405, 0.61836405,\n",
       "        0.48699164],\n",
       "       [0.61454595, 0.6434125 , 0.62713725, 0.64796858, 0.64796858,\n",
       "        0.63648388]])"
      ]
     },
     "execution_count": 6,
     "metadata": {},
     "output_type": "execute_result"
    }
   ],
   "source": [
    "data"
   ]
  },
  {
   "cell_type": "code",
   "execution_count": 7,
   "id": "4f007f54",
   "metadata": {},
   "outputs": [
    {
     "name": "stdout",
     "output_type": "stream",
     "text": [
      "[[0.02604237 0.0369725  0.02283393 0.02174973 0.02174973 0.46074816]\n",
      " [0.02391041 0.02490751 0.01451821 0.01668472 0.01668472 0.21865873]\n",
      " [0.01851302 0.01734678 0.01023684 0.0092091  0.0092091  0.13554449]\n",
      " [0.01041695 0.00903534 0.00233279 0.00083966 0.00083966 0.18216567]\n",
      " [0.00070166 0.         0.         0.         0.         0.18364493]\n",
      " [0.         0.00238619 0.00161923 0.00449621 0.00449621 0.20496202]\n",
      " [0.00388612 0.00340501 0.0043088  0.00433369 0.00433369 0.10614273]\n",
      " [0.00488464 0.0038608  0.00554382 0.0033857  0.0033857  0.0562553 ]\n",
      " [0.00337336 0.00538903 0.00526937 0.00633803 0.00633803 0.06914759]\n",
      " [0.00485765 0.00943751 0.00762961 0.01094258 0.01094258 0.11004605]\n",
      " [0.01025503 0.013057   0.01103274 0.011078   0.011078   0.09775303]\n",
      " [0.01230604 0.01252078 0.01391442 0.01310942 0.01310942 0.06756034]\n",
      " [0.01411416 0.01506784 0.01630211 0.0165493  0.0165493  0.06392157]\n",
      " [0.01540953 0.01399539 0.01391442 0.01218851 0.01218851 0.0460732 ]\n",
      " [0.01219809 0.01144834 0.01240497 0.01197183 0.01197183 0.03061109]]\n"
     ]
    }
   ],
   "source": [
    "seq_length = 5\n",
    "x_data = []\n",
    "for i in range(seq_length, len(data)): \n",
    "    x_data.append(data[i-seq_length:i])\n",
    "    \n",
    "print(x_data[1])"
   ]
  },
  {
   "cell_type": "code",
   "execution_count": 8,
   "id": "fef54dcb",
   "metadata": {},
   "outputs": [
    {
     "name": "stdout",
     "output_type": "stream",
     "text": [
      "332\n",
      "1880\n"
     ]
    }
   ],
   "source": [
    "x_data = np.array(x_data)\n",
    "test_set_size = int(np.round(0.15 * x_data.shape[0]))\n",
    "print(test_set_size)\n",
    "train_set_size = x_data.shape[0] - (test_set_size)\n",
    "print(train_set_size)\n",
    "\n",
    "x_train = x_data[:train_set_size,:-1]\n",
    "y_train = x_data[:train_set_size, 1, 1]\n",
    "y_train = y_train.reshape(-1,1)\n",
    "for i in y_train:\n",
    "    if i == 1:\n",
    "        print(i)\n",
    "        \n",
    "x_test = x_data[train_set_size:, :-1]\n",
    "y_test = x_data[train_set_size:, 1, 1]\n",
    "y_test = y_test.reshape(-1,1)"
   ]
  },
  {
   "cell_type": "code",
   "execution_count": 9,
   "id": "ed90f6a9",
   "metadata": {},
   "outputs": [],
   "source": [
    "model = tf.keras.models.Sequential([\n",
    "    tf.keras.layers.LSTM(units = 100, return_sequences = True, input_shape = (x_train[0].shape)),\n",
    "    tf.keras.layers.Dropout(0.2),\n",
    "    tf.keras.layers.LSTM(units = 100),\n",
    "    tf.keras.layers.Dropout(0.2),\n",
    "    tf.keras.layers.Dense(units = 1)\n",
    "])\n",
    "\n",
    "model.compile(optimizer = 'adam', loss = 'mean_squared_error', metrics=['accuracy'])\n"
   ]
  },
  {
   "cell_type": "code",
   "execution_count": null,
   "id": "ef3bfdf0",
   "metadata": {},
   "outputs": [],
   "source": []
  },
  {
   "cell_type": "code",
   "execution_count": 10,
   "id": "107b6d8d",
   "metadata": {},
   "outputs": [
    {
     "name": "stdout",
     "output_type": "stream",
     "text": [
      "Epoch 1/80\n",
      "27/27 [==============================] - 5s 52ms/step - loss: 0.0217 - accuracy: 5.9102e-04 - val_loss: 0.0023 - val_accuracy: 0.0053\n",
      "Epoch 2/80\n",
      "27/27 [==============================] - 1s 20ms/step - loss: 0.0023 - accuracy: 5.9102e-04 - val_loss: 0.0094 - val_accuracy: 0.0053\n",
      "Epoch 3/80\n",
      "27/27 [==============================] - 0s 18ms/step - loss: 0.0018 - accuracy: 5.9102e-04 - val_loss: 0.0042 - val_accuracy: 0.0053\n",
      "Epoch 4/80\n",
      "27/27 [==============================] - 1s 19ms/step - loss: 0.0016 - accuracy: 5.9102e-04 - val_loss: 0.0046 - val_accuracy: 0.0053\n",
      "Epoch 5/80\n",
      "27/27 [==============================] - 0s 19ms/step - loss: 0.0016 - accuracy: 5.9102e-04 - val_loss: 0.0029 - val_accuracy: 0.0053\n",
      "Epoch 6/80\n",
      "27/27 [==============================] - 0s 18ms/step - loss: 0.0015 - accuracy: 5.9102e-04 - val_loss: 0.0031 - val_accuracy: 0.0053\n",
      "Epoch 7/80\n",
      "27/27 [==============================] - 1s 19ms/step - loss: 0.0015 - accuracy: 5.9102e-04 - val_loss: 0.0046 - val_accuracy: 0.0053\n",
      "Epoch 8/80\n",
      "27/27 [==============================] - 0s 18ms/step - loss: 0.0014 - accuracy: 5.9102e-04 - val_loss: 0.0053 - val_accuracy: 0.0053\n",
      "Epoch 9/80\n",
      "27/27 [==============================] - 0s 18ms/step - loss: 0.0012 - accuracy: 5.9102e-04 - val_loss: 0.0033 - val_accuracy: 0.0053\n",
      "Epoch 10/80\n",
      "27/27 [==============================] - 1s 19ms/step - loss: 0.0015 - accuracy: 5.9102e-04 - val_loss: 0.0058 - val_accuracy: 0.0053\n",
      "Epoch 11/80\n",
      "27/27 [==============================] - 1s 19ms/step - loss: 0.0014 - accuracy: 5.9102e-04 - val_loss: 0.0046 - val_accuracy: 0.0053\n",
      "Epoch 12/80\n",
      "27/27 [==============================] - 0s 19ms/step - loss: 0.0013 - accuracy: 5.9102e-04 - val_loss: 0.0041 - val_accuracy: 0.0053\n",
      "Epoch 13/80\n",
      "27/27 [==============================] - 1s 19ms/step - loss: 0.0013 - accuracy: 5.9102e-04 - val_loss: 0.0037 - val_accuracy: 0.0053\n",
      "Epoch 14/80\n",
      "27/27 [==============================] - 1s 19ms/step - loss: 0.0012 - accuracy: 5.9102e-04 - val_loss: 0.0044 - val_accuracy: 0.0053\n",
      "Epoch 15/80\n",
      "27/27 [==============================] - 1s 19ms/step - loss: 0.0012 - accuracy: 5.9102e-04 - val_loss: 0.0037 - val_accuracy: 0.0053\n",
      "Epoch 16/80\n",
      "27/27 [==============================] - 1s 20ms/step - loss: 0.0012 - accuracy: 5.9102e-04 - val_loss: 0.0027 - val_accuracy: 0.0053\n",
      "Epoch 17/80\n",
      "27/27 [==============================] - 0s 18ms/step - loss: 0.0011 - accuracy: 5.9102e-04 - val_loss: 0.0045 - val_accuracy: 0.0053\n",
      "Epoch 18/80\n",
      "27/27 [==============================] - 1s 19ms/step - loss: 0.0012 - accuracy: 5.9102e-04 - val_loss: 0.0113 - val_accuracy: 0.0053\n",
      "Epoch 19/80\n",
      "27/27 [==============================] - 0s 18ms/step - loss: 0.0012 - accuracy: 5.9102e-04 - val_loss: 0.0040 - val_accuracy: 0.0053\n",
      "Epoch 20/80\n",
      "27/27 [==============================] - 1s 19ms/step - loss: 0.0012 - accuracy: 5.9102e-04 - val_loss: 0.0075 - val_accuracy: 0.0053\n",
      "Epoch 21/80\n",
      "27/27 [==============================] - 1s 19ms/step - loss: 0.0011 - accuracy: 5.9102e-04 - val_loss: 0.0049 - val_accuracy: 0.0053\n",
      "Epoch 22/80\n",
      "27/27 [==============================] - 1s 19ms/step - loss: 0.0010 - accuracy: 5.9102e-04 - val_loss: 0.0029 - val_accuracy: 0.0053\n",
      "Epoch 23/80\n",
      "27/27 [==============================] - 0s 18ms/step - loss: 9.6322e-04 - accuracy: 5.9102e-04 - val_loss: 0.0031 - val_accuracy: 0.0053\n",
      "Epoch 24/80\n",
      "27/27 [==============================] - 1s 19ms/step - loss: 0.0011 - accuracy: 5.9102e-04 - val_loss: 0.0082 - val_accuracy: 0.0053\n",
      "Epoch 25/80\n",
      "27/27 [==============================] - 1s 19ms/step - loss: 0.0010 - accuracy: 5.9102e-04 - val_loss: 0.0079 - val_accuracy: 0.0053\n",
      "Epoch 26/80\n",
      "27/27 [==============================] - 1s 19ms/step - loss: 0.0010 - accuracy: 5.9102e-04 - val_loss: 0.0026 - val_accuracy: 0.0053\n",
      "Epoch 27/80\n",
      "27/27 [==============================] - 1s 20ms/step - loss: 9.5833e-04 - accuracy: 5.9102e-04 - val_loss: 0.0061 - val_accuracy: 0.0053\n",
      "Epoch 28/80\n",
      "27/27 [==============================] - 1s 19ms/step - loss: 9.7163e-04 - accuracy: 5.9102e-04 - val_loss: 0.0096 - val_accuracy: 0.0053\n",
      "Epoch 29/80\n",
      "27/27 [==============================] - 1s 19ms/step - loss: 9.9940e-04 - accuracy: 5.9102e-04 - val_loss: 0.0050 - val_accuracy: 0.0053\n",
      "Epoch 30/80\n",
      "27/27 [==============================] - 0s 19ms/step - loss: 8.7903e-04 - accuracy: 5.9102e-04 - val_loss: 0.0023 - val_accuracy: 0.0053\n",
      "Epoch 31/80\n",
      "27/27 [==============================] - 1s 19ms/step - loss: 8.6258e-04 - accuracy: 5.9102e-04 - val_loss: 0.0050 - val_accuracy: 0.0053\n",
      "Epoch 32/80\n",
      "27/27 [==============================] - 0s 18ms/step - loss: 9.3546e-04 - accuracy: 5.9102e-04 - val_loss: 0.0077 - val_accuracy: 0.0053\n",
      "Epoch 33/80\n",
      "27/27 [==============================] - 0s 18ms/step - loss: 8.2850e-04 - accuracy: 5.9102e-04 - val_loss: 0.0020 - val_accuracy: 0.0053\n",
      "Epoch 34/80\n",
      "27/27 [==============================] - 0s 19ms/step - loss: 9.3900e-04 - accuracy: 5.9102e-04 - val_loss: 0.0059 - val_accuracy: 0.0053\n",
      "Epoch 35/80\n",
      "27/27 [==============================] - 0s 18ms/step - loss: 8.7319e-04 - accuracy: 5.9102e-04 - val_loss: 0.0044 - val_accuracy: 0.0053\n",
      "Epoch 36/80\n",
      "27/27 [==============================] - 0s 18ms/step - loss: 8.1268e-04 - accuracy: 5.9102e-04 - val_loss: 0.0021 - val_accuracy: 0.0053\n",
      "Epoch 37/80\n",
      "27/27 [==============================] - 0s 18ms/step - loss: 7.4199e-04 - accuracy: 5.9102e-04 - val_loss: 0.0026 - val_accuracy: 0.0053\n",
      "Epoch 38/80\n",
      "27/27 [==============================] - 0s 18ms/step - loss: 7.3918e-04 - accuracy: 5.9102e-04 - val_loss: 0.0017 - val_accuracy: 0.0053\n",
      "Epoch 39/80\n",
      "27/27 [==============================] - 1s 20ms/step - loss: 8.4307e-04 - accuracy: 5.9102e-04 - val_loss: 0.0082 - val_accuracy: 0.0053\n",
      "Epoch 40/80\n",
      "27/27 [==============================] - 0s 18ms/step - loss: 9.3489e-04 - accuracy: 5.9102e-04 - val_loss: 0.0080 - val_accuracy: 0.0053\n",
      "Epoch 41/80\n",
      "27/27 [==============================] - 1s 19ms/step - loss: 7.6003e-04 - accuracy: 5.9102e-04 - val_loss: 0.0065 - val_accuracy: 0.0053\n",
      "Epoch 42/80\n",
      "27/27 [==============================] - 1s 20ms/step - loss: 7.6836e-04 - accuracy: 5.9102e-04 - val_loss: 0.0019 - val_accuracy: 0.0053\n",
      "Epoch 43/80\n",
      "27/27 [==============================] - 1s 19ms/step - loss: 6.0524e-04 - accuracy: 5.9102e-04 - val_loss: 0.0012 - val_accuracy: 0.0053\n",
      "Epoch 44/80\n",
      "27/27 [==============================] - 0s 18ms/step - loss: 6.0661e-04 - accuracy: 5.9102e-04 - val_loss: 0.0017 - val_accuracy: 0.0053\n",
      "Epoch 45/80\n",
      "27/27 [==============================] - 1s 19ms/step - loss: 6.5773e-04 - accuracy: 5.9102e-04 - val_loss: 5.9919e-04 - val_accuracy: 0.0053\n",
      "Epoch 46/80\n",
      "27/27 [==============================] - 1s 19ms/step - loss: 6.5804e-04 - accuracy: 5.9102e-04 - val_loss: 0.0040 - val_accuracy: 0.0053\n",
      "Epoch 47/80\n",
      "27/27 [==============================] - 1s 19ms/step - loss: 8.2829e-04 - accuracy: 5.9102e-04 - val_loss: 0.0042 - val_accuracy: 0.0053\n",
      "Epoch 48/80\n",
      "27/27 [==============================] - 1s 19ms/step - loss: 6.8368e-04 - accuracy: 5.9102e-04 - val_loss: 7.1468e-04 - val_accuracy: 0.0053\n",
      "Epoch 49/80\n",
      "27/27 [==============================] - 1s 20ms/step - loss: 0.0011 - accuracy: 5.9102e-04 - val_loss: 8.7543e-04 - val_accuracy: 0.0053\n",
      "Epoch 50/80\n",
      "27/27 [==============================] - 1s 23ms/step - loss: 7.7690e-04 - accuracy: 5.9102e-04 - val_loss: 0.0016 - val_accuracy: 0.0053\n",
      "Epoch 51/80\n",
      "27/27 [==============================] - 1s 22ms/step - loss: 6.2708e-04 - accuracy: 5.9102e-04 - val_loss: 0.0062 - val_accuracy: 0.0053\n",
      "Epoch 52/80\n",
      "27/27 [==============================] - 1s 22ms/step - loss: 6.0600e-04 - accuracy: 5.9102e-04 - val_loss: 0.0011 - val_accuracy: 0.0053\n",
      "Epoch 53/80\n",
      "27/27 [==============================] - 1s 23ms/step - loss: 6.2335e-04 - accuracy: 5.9102e-04 - val_loss: 0.0048 - val_accuracy: 0.0053\n",
      "Epoch 54/80\n",
      "27/27 [==============================] - 1s 21ms/step - loss: 5.7140e-04 - accuracy: 5.9102e-04 - val_loss: 0.0012 - val_accuracy: 0.0053\n",
      "Epoch 55/80\n",
      "27/27 [==============================] - 1s 21ms/step - loss: 6.6595e-04 - accuracy: 5.9102e-04 - val_loss: 0.0058 - val_accuracy: 0.0053\n",
      "Epoch 56/80\n"
     ]
    },
    {
     "name": "stdout",
     "output_type": "stream",
     "text": [
      "27/27 [==============================] - 1s 21ms/step - loss: 5.7376e-04 - accuracy: 5.9102e-04 - val_loss: 0.0050 - val_accuracy: 0.0053\n",
      "Epoch 57/80\n",
      "27/27 [==============================] - 1s 21ms/step - loss: 5.9952e-04 - accuracy: 5.9102e-04 - val_loss: 0.0047 - val_accuracy: 0.0053\n",
      "Epoch 58/80\n",
      "27/27 [==============================] - 1s 21ms/step - loss: 5.9019e-04 - accuracy: 5.9102e-04 - val_loss: 0.0038 - val_accuracy: 0.0053\n",
      "Epoch 59/80\n",
      "27/27 [==============================] - 1s 21ms/step - loss: 6.4656e-04 - accuracy: 5.9102e-04 - val_loss: 0.0015 - val_accuracy: 0.0053\n",
      "Epoch 60/80\n",
      "27/27 [==============================] - 1s 21ms/step - loss: 5.7970e-04 - accuracy: 5.9102e-04 - val_loss: 0.0041 - val_accuracy: 0.0053\n",
      "Epoch 61/80\n",
      "27/27 [==============================] - 1s 22ms/step - loss: 6.1735e-04 - accuracy: 5.9102e-04 - val_loss: 0.0050 - val_accuracy: 0.0053\n",
      "Epoch 62/80\n",
      "27/27 [==============================] - 1s 22ms/step - loss: 5.2415e-04 - accuracy: 5.9102e-04 - val_loss: 0.0052 - val_accuracy: 0.0053\n",
      "Epoch 63/80\n",
      "27/27 [==============================] - 1s 22ms/step - loss: 5.4844e-04 - accuracy: 5.9102e-04 - val_loss: 0.0034 - val_accuracy: 0.0053\n",
      "Epoch 64/80\n",
      "27/27 [==============================] - 1s 22ms/step - loss: 6.0521e-04 - accuracy: 5.9102e-04 - val_loss: 8.9874e-04 - val_accuracy: 0.0053\n",
      "Epoch 65/80\n",
      "27/27 [==============================] - 1s 21ms/step - loss: 7.0412e-04 - accuracy: 5.9102e-04 - val_loss: 0.0092 - val_accuracy: 0.0053\n",
      "Epoch 66/80\n",
      "27/27 [==============================] - 1s 21ms/step - loss: 5.3963e-04 - accuracy: 5.9102e-04 - val_loss: 0.0047 - val_accuracy: 0.0053\n",
      "Epoch 67/80\n",
      "27/27 [==============================] - 1s 22ms/step - loss: 5.7617e-04 - accuracy: 5.9102e-04 - val_loss: 0.0048 - val_accuracy: 0.0053\n",
      "Epoch 68/80\n",
      "27/27 [==============================] - 1s 22ms/step - loss: 5.3119e-04 - accuracy: 5.9102e-04 - val_loss: 0.0073 - val_accuracy: 0.0053\n",
      "Epoch 69/80\n",
      "27/27 [==============================] - 1s 21ms/step - loss: 5.6746e-04 - accuracy: 5.9102e-04 - val_loss: 0.0015 - val_accuracy: 0.0053\n",
      "Epoch 70/80\n",
      "27/27 [==============================] - 1s 22ms/step - loss: 5.9361e-04 - accuracy: 5.9102e-04 - val_loss: 0.0090 - val_accuracy: 0.0053\n",
      "Epoch 71/80\n",
      "27/27 [==============================] - 1s 22ms/step - loss: 6.2568e-04 - accuracy: 5.9102e-04 - val_loss: 0.0057 - val_accuracy: 0.0053\n",
      "Epoch 72/80\n",
      "27/27 [==============================] - 1s 21ms/step - loss: 4.8305e-04 - accuracy: 5.9102e-04 - val_loss: 0.0088 - val_accuracy: 0.0053\n",
      "Epoch 73/80\n",
      "27/27 [==============================] - 1s 22ms/step - loss: 4.3519e-04 - accuracy: 5.9102e-04 - val_loss: 0.0045 - val_accuracy: 0.0053\n",
      "Epoch 74/80\n",
      "27/27 [==============================] - 1s 22ms/step - loss: 4.7936e-04 - accuracy: 5.9102e-04 - val_loss: 0.0062 - val_accuracy: 0.0053\n",
      "Epoch 75/80\n",
      "27/27 [==============================] - 1s 21ms/step - loss: 5.2971e-04 - accuracy: 5.9102e-04 - val_loss: 0.0134 - val_accuracy: 0.0053\n",
      "Epoch 76/80\n",
      "27/27 [==============================] - 1s 22ms/step - loss: 5.6608e-04 - accuracy: 5.9102e-04 - val_loss: 0.0093 - val_accuracy: 0.0053\n",
      "Epoch 77/80\n",
      "27/27 [==============================] - 1s 22ms/step - loss: 4.6569e-04 - accuracy: 5.9102e-04 - val_loss: 0.0070 - val_accuracy: 0.0053\n",
      "Epoch 78/80\n",
      "27/27 [==============================] - 1s 22ms/step - loss: 4.7905e-04 - accuracy: 5.9102e-04 - val_loss: 0.0036 - val_accuracy: 0.0053\n",
      "Epoch 79/80\n",
      "27/27 [==============================] - 1s 21ms/step - loss: 6.0102e-04 - accuracy: 5.9102e-04 - val_loss: 0.0055 - val_accuracy: 0.0053\n",
      "Epoch 80/80\n",
      "27/27 [==============================] - 1s 21ms/step - loss: 5.8218e-04 - accuracy: 5.9102e-04 - val_loss: 0.0096 - val_accuracy: 0.0053\n"
     ]
    },
    {
     "data": {
      "text/plain": [
       "<keras.callbacks.History at 0x1b021e38548>"
      ]
     },
     "execution_count": 10,
     "metadata": {},
     "output_type": "execute_result"
    }
   ],
   "source": [
    "# callback = tf.keras.callbacks.EarlyStopping(monitor='val_loss', mode = \"min\" ,patience=7)\n",
    "model.fit(x_train, y_train, epochs=30, batch_size = 64, validation_split=0.1)"
   ]
  },
  {
   "cell_type": "code",
   "execution_count": 11,
   "id": "826f5ab8",
   "metadata": {},
   "outputs": [],
   "source": [
    "y_predict = model.predict(x_test)"
   ]
  },
  {
   "cell_type": "code",
   "execution_count": 12,
   "id": "8d8936ce",
   "metadata": {},
   "outputs": [
    {
     "name": "stdout",
     "output_type": "stream",
     "text": [
      "11/11 [==============================] - 0s 6ms/step - loss: 0.0065 - accuracy: 0.0000e+00\n"
     ]
    },
    {
     "data": {
      "text/plain": [
       "[0.006546690594404936, 0.0]"
      ]
     },
     "execution_count": 12,
     "metadata": {},
     "output_type": "execute_result"
    }
   ],
   "source": [
    "model.evaluate(x_test, y_test)"
   ]
  },
  {
   "cell_type": "code",
   "execution_count": 13,
   "id": "d99c9e34",
   "metadata": {},
   "outputs": [
    {
     "data": {
      "image/png": "[encoded data removed]",
      "text/plain": [
       "<Figure size 432x288 with 1 Axes>"
      ]
     },
     "metadata": {
      "needs_background": "light"
     },
     "output_type": "display_data"
    }
   ],
   "source": [
    "plt.plot(y_test, color = 'green', label = 'TSLA Stock Price')\n",
    "plt.plot(y_predict, color = 'blue', label = 'Generated TSLA Stock Price')\n",
    "plt.title('TSLA Stock Price Prediction')\n",
    "plt.xlabel('Date')\n",
    "plt.ylabel('Stock Price')\n",
    "plt.legend()\n",
    "plt.show()"
   ]
  },
  {
   "cell_type": "code",
   "execution_count": 15,
   "id": "6bfba270",
   "metadata": {},
   "outputs": [
    {
     "data": {
      "text/plain": [
       "TensorShape([1])"
      ]
     },
     "execution_count": 15,
     "metadata": {},
     "output_type": "execute_result"
    }
   ],
   "source": [
    "tf.constant([\"ROMEO:\"]).shape"
   ]
  },
  {
   "cell_type": "code",
   "execution_count": null,
   "id": "5fa14135",
   "metadata": {},
   "outputs": [],
   "source": []
  }
 ],
 "metadata": {
  "kernelspec": {
   "display_name": "Python 3 (ipykernel)",
   "language": "python",
   "name": "python3"
  },
  "language_info": {
   "codemirror_mode": {
    "name": "ipython",
    "version": 3
   },
   "file_extension": ".py",
   "mimetype": "text/x-python",
   "name": "python",
   "nbconvert_exporter": "python",
   "pygments_lexer": "ipython3",
   "version": "3.7.11"
  }
 },
 "nbformat": 4,
 "nbformat_minor": 5
}
