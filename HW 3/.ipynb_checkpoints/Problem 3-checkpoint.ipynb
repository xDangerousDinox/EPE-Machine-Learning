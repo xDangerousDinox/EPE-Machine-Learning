{
 "cells": [
  {
   "cell_type": "code",
   "execution_count": 1,
   "id": "a5531b79",
   "metadata": {},
   "outputs": [
    {
     "data": {
      "text/html": [
       "<style>.container { width:100% !important; }</style>"
      ],
      "text/plain": [
       "<IPython.core.display.HTML object>"
      ]
     },
     "metadata": {},
     "output_type": "display_data"
    }
   ],
   "source": [
    "from IPython.core.display import display, HTML\n",
    "display(HTML(\"<style>.container { width:100% !important; }</style>\"))"
   ]
  },
  {
   "cell_type": "code",
   "execution_count": 2,
   "id": "a6ee0999",
   "metadata": {},
   "outputs": [],
   "source": [
    "import numpy as np\n",
    "import matplotlib.pyplot as plt\n",
    "import pandas as pd\n",
    "import datetime\n",
    "from sklearn.preprocessing import MinMaxScaler\n",
    "import tensorflow as tf"
   ]
  },
  {
   "cell_type": "code",
   "execution_count": 4,
   "id": "6774f1d2",
   "metadata": {},
   "outputs": [],
   "source": [
    "data = pd.read_csv(\"TSLA.csv\")\n",
    "data = data.iloc[:, 1:]"
   ]
  },
  {
   "cell_type": "code",
   "execution_count": 5,
   "id": "1fbb4285",
   "metadata": {},
   "outputs": [
    {
     "data": {
      "text/html": [
       "<div>\n",
       "<style scoped>\n",
       "    .dataframe tbody tr th:only-of-type {\n",
       "        vertical-align: middle;\n",
       "    }\n",
       "\n",
       "    .dataframe tbody tr th {\n",
       "        vertical-align: top;\n",
       "    }\n",
       "\n",
       "    .dataframe thead th {\n",
       "        text-align: right;\n",
       "    }\n",
       "</style>\n",
       "<table border=\"1\" class=\"dataframe\">\n",
       "  <thead>\n",
       "    <tr style=\"text-align: right;\">\n",
       "      <th></th>\n",
       "      <th>Open</th>\n",
       "      <th>High</th>\n",
       "      <th>Low</th>\n",
       "      <th>Close</th>\n",
       "      <th>Adj Close</th>\n",
       "      <th>Volume</th>\n",
       "    </tr>\n",
       "  </thead>\n",
       "  <tbody>\n",
       "    <tr>\n",
       "      <th>0</th>\n",
       "      <td>19.000000</td>\n",
       "      <td>25.000000</td>\n",
       "      <td>17.540001</td>\n",
       "      <td>23.889999</td>\n",
       "      <td>23.889999</td>\n",
       "      <td>18766300</td>\n",
       "    </tr>\n",
       "    <tr>\n",
       "      <th>1</th>\n",
       "      <td>25.790001</td>\n",
       "      <td>30.420000</td>\n",
       "      <td>23.299999</td>\n",
       "      <td>23.830000</td>\n",
       "      <td>23.830000</td>\n",
       "      <td>17187100</td>\n",
       "    </tr>\n",
       "    <tr>\n",
       "      <th>2</th>\n",
       "      <td>25.000000</td>\n",
       "      <td>25.920000</td>\n",
       "      <td>20.270000</td>\n",
       "      <td>21.959999</td>\n",
       "      <td>21.959999</td>\n",
       "      <td>8218800</td>\n",
       "    </tr>\n",
       "    <tr>\n",
       "      <th>3</th>\n",
       "      <td>23.000000</td>\n",
       "      <td>23.100000</td>\n",
       "      <td>18.709999</td>\n",
       "      <td>19.200001</td>\n",
       "      <td>19.200001</td>\n",
       "      <td>5139800</td>\n",
       "    </tr>\n",
       "    <tr>\n",
       "      <th>4</th>\n",
       "      <td>20.000000</td>\n",
       "      <td>20.000000</td>\n",
       "      <td>15.830000</td>\n",
       "      <td>16.110001</td>\n",
       "      <td>16.110001</td>\n",
       "      <td>6866900</td>\n",
       "    </tr>\n",
       "    <tr>\n",
       "      <th>...</th>\n",
       "      <td>...</td>\n",
       "      <td>...</td>\n",
       "      <td>...</td>\n",
       "      <td>...</td>\n",
       "      <td>...</td>\n",
       "      <td>...</td>\n",
       "    </tr>\n",
       "    <tr>\n",
       "      <th>2222</th>\n",
       "      <td>235.860001</td>\n",
       "      <td>243.979996</td>\n",
       "      <td>232.169998</td>\n",
       "      <td>241.470001</td>\n",
       "      <td>241.470001</td>\n",
       "      <td>16714500</td>\n",
       "    </tr>\n",
       "    <tr>\n",
       "      <th>2223</th>\n",
       "      <td>242.059998</td>\n",
       "      <td>244.210007</td>\n",
       "      <td>237.000000</td>\n",
       "      <td>238.690002</td>\n",
       "      <td>238.690002</td>\n",
       "      <td>9464600</td>\n",
       "    </tr>\n",
       "    <tr>\n",
       "      <th>2224</th>\n",
       "      <td>238.850006</td>\n",
       "      <td>240.000000</td>\n",
       "      <td>231.500000</td>\n",
       "      <td>234.009995</td>\n",
       "      <td>234.009995</td>\n",
       "      <td>10704400</td>\n",
       "    </tr>\n",
       "    <tr>\n",
       "      <th>2225</th>\n",
       "      <td>245.520004</td>\n",
       "      <td>247.130005</td>\n",
       "      <td>237.720001</td>\n",
       "      <td>244.100006</td>\n",
       "      <td>244.100006</td>\n",
       "      <td>18159300</td>\n",
       "    </tr>\n",
       "    <tr>\n",
       "      <th>2226</th>\n",
       "      <td>243.860001</td>\n",
       "      <td>256.609985</td>\n",
       "      <td>243.490005</td>\n",
       "      <td>255.029999</td>\n",
       "      <td>255.029999</td>\n",
       "      <td>23697300</td>\n",
       "    </tr>\n",
       "  </tbody>\n",
       "</table>\n",
       "<p>2227 rows × 6 columns</p>\n",
       "</div>"
      ],
      "text/plain": [
       "            Open        High         Low       Close   Adj Close    Volume\n",
       "0      19.000000   25.000000   17.540001   23.889999   23.889999  18766300\n",
       "1      25.790001   30.420000   23.299999   23.830000   23.830000  17187100\n",
       "2      25.000000   25.920000   20.270000   21.959999   21.959999   8218800\n",
       "3      23.000000   23.100000   18.709999   19.200001   19.200001   5139800\n",
       "4      20.000000   20.000000   15.830000   16.110001   16.110001   6866900\n",
       "...          ...         ...         ...         ...         ...       ...\n",
       "2222  235.860001  243.979996  232.169998  241.470001  241.470001  16714500\n",
       "2223  242.059998  244.210007  237.000000  238.690002  238.690002   9464600\n",
       "2224  238.850006  240.000000  231.500000  234.009995  234.009995  10704400\n",
       "2225  245.520004  247.130005  237.720001  244.100006  244.100006  18159300\n",
       "2226  243.860001  256.609985  243.490005  255.029999  255.029999  23697300\n",
       "\n",
       "[2227 rows x 6 columns]"
      ]
     },
     "execution_count": 5,
     "metadata": {},
     "output_type": "execute_result"
    }
   ],
   "source": [
    "data"
   ]
  },
  {
   "cell_type": "code",
   "execution_count": 8,
   "id": "9611444d",
   "metadata": {},
   "outputs": [],
   "source": [
    "minmax_scaler = MinMaxScaler() \n",
    "data = minmax_scaler.fit_transform(data)\n",
    "# turns data into gaussian distribution better for neural networks when data is normalized"
   ]
  },
  {
   "cell_type": "code",
   "execution_count": 9,
   "id": "78294af8",
   "metadata": {},
   "outputs": [
    {
     "data": {
      "text/plain": [
       "array([[0.00771826, 0.02244089, 0.00702583, 0.02191224, 0.02191224,\n",
       "        0.50337694],\n",
       "       [0.02604237, 0.0369725 , 0.02283393, 0.02174973, 0.02174973,\n",
       "        0.46074816],\n",
       "       [0.02391041, 0.02490751, 0.01451821, 0.01668472, 0.01668472,\n",
       "        0.21865873],\n",
       "       ...,\n",
       "       [0.60102552, 0.59887932, 0.59423113, 0.59103466, 0.59103466,\n",
       "        0.28575478],\n",
       "       [0.61902578, 0.61799564, 0.61130169, 0.61836405, 0.61836405,\n",
       "        0.48699164],\n",
       "       [0.61454595, 0.6434125 , 0.62713725, 0.64796858, 0.64796858,\n",
       "        0.63648388]])"
      ]
     },
     "execution_count": 9,
     "metadata": {},
     "output_type": "execute_result"
    }
   ],
   "source": [
    "data"
   ]
  },
  {
   "cell_type": "code",
   "execution_count": 16,
   "id": "61e47be2",
   "metadata": {},
   "outputs": [
    {
     "name": "stdout",
     "output_type": "stream",
     "text": [
      "[[0.02604237 0.0369725  0.02283393 0.02174973 0.02174973 0.46074816]\n",
      " [0.02391041 0.02490751 0.01451821 0.01668472 0.01668472 0.21865873]\n",
      " [0.01851302 0.01734678 0.01023684 0.0092091  0.0092091  0.13554449]\n",
      " [0.01041695 0.00903534 0.00233279 0.00083966 0.00083966 0.18216567]\n",
      " [0.00070166 0.         0.         0.         0.         0.18364493]\n",
      " [0.         0.00238619 0.00161923 0.00449621 0.00449621 0.20496202]\n",
      " [0.00388612 0.00340501 0.0043088  0.00433369 0.00433369 0.10614273]\n",
      " [0.00488464 0.0038608  0.00554382 0.0033857  0.0033857  0.0562553 ]\n",
      " [0.00337336 0.00538903 0.00526937 0.00633803 0.00633803 0.06914759]\n",
      " [0.00485765 0.00943751 0.00762961 0.01094258 0.01094258 0.11004605]\n",
      " [0.01025503 0.013057   0.01103274 0.011078   0.011078   0.09775303]\n",
      " [0.01230604 0.01252078 0.01391442 0.01310942 0.01310942 0.06756034]\n",
      " [0.01411416 0.01506784 0.01630211 0.0165493  0.0165493  0.06392157]\n",
      " [0.01540953 0.01399539 0.01391442 0.01218851 0.01218851 0.0460732 ]\n",
      " [0.01219809 0.01144834 0.01240497 0.01197183 0.01197183 0.03061109]]\n"
     ]
    }
   ],
   "source": [
    "seq_length = 15\n",
    "x_data = []\n",
    "for i in range(seq_length, len(data)): \n",
    "    x_data.append(data[i-seq_length:i])\n",
    "    \n",
    "print(x_data[1])"
   ]
  },
  {
   "cell_type": "code",
   "execution_count": 23,
   "id": "9b0b4f65",
   "metadata": {},
   "outputs": [],
   "source": [
    "x_data = np.array(x_data)\n",
    "test_set_size = int(np.round(0.15 * x_data.shape[0]))\n",
    "train_set_size = x_data.shape[0] - (test_set_size)\n",
    "\n",
    "x_train = x_data[:train_set_size,:-1]\n",
    "y_train = x_data[:train_set_size, 1, 1]\n",
    "y_train = y_train.reshape(-1,1)"
   ]
  },
  {
   "cell_type": "code",
   "execution_count": null,
   "id": "00c8da99",
   "metadata": {},
   "outputs": [],
   "source": [
    "model = tf.keras.models.Sequential([\n",
    "    \n",
    "])\n",
    "# Initialising the RNN\n",
    "regressor = keras.Sequential()\n",
    "\n",
    "# Adding the first LSTM layer and some Dropout regularisation\n",
    "regressor.add(layers.GRU(units = 200, return_sequences = True, input_shape = (x_train[0].shape)))\n",
    "regressor.add(layers.Dropout(0.2))\n",
    "# Adding a second LSTM layer and some Dropout regularisation\n",
    "regressor.add(layers.GRU(units = 200))\n",
    "regressor.add(layers.Dropout(0.2))\n",
    "# Adding a third LSTM layer and some Dropout regularisation\n",
    "\"\"\"regressor.add(layers.LSTM(units = 64, return_sequences = True))\n",
    "regressor.add(layers.Dropout(0.2))\n",
    "# Adding a fourth LSTM layer and some Dropout regularisation\n",
    "regressor.add(layers.LSTM(units = 64))\n",
    "regressor.add(layers.Dropout(0.2))\"\"\"\n",
    "# Adding the output layer\n",
    "regressor.add(layers.Dense(units = 1))\n",
    "\n",
    "# Compiling the RNN\n",
    "regressor.compile(optimizer = 'adam', loss = 'mean_squared_error')"
   ]
  }
 ],
 "metadata": {
  "kernelspec": {
   "display_name": "Python 3 (ipykernel)",
   "language": "python",
   "name": "python3"
  },
  "language_info": {
   "codemirror_mode": {
    "name": "ipython",
    "version": 3
   },
   "file_extension": ".py",
   "mimetype": "text/x-python",
   "name": "python",
   "nbconvert_exporter": "python",
   "pygments_lexer": "ipython3",
   "version": "3.7.11"
  }
 },
 "nbformat": 4,
 "nbformat_minor": 5
}
