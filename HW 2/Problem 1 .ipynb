{
 "cells": [
  {
   "cell_type": "code",
   "execution_count": 1,
   "id": "cd138523",
   "metadata": {},
   "outputs": [],
   "source": [
    "class Layer:\n",
    "    def __init__(self):\n",
    "        self.input = None\n",
    "        self.output = None\n",
    "        \n",
    "    def forward_propagation(self, input):\n",
    "        raise NotImplementedError\n",
    "        \n",
    "    def backward_propagation(self, output_error, learning_rate):\n",
    "        raise NotImplementedError"
   ]
  },
  {
   "cell_type": "code",
   "execution_count": null,
   "id": "c1d5f31a",
   "metadata": {},
   "outputs": [],
   "source": []
  },
  {
   "cell_type": "code",
   "execution_count": 2,
   "id": "52a3684d",
   "metadata": {},
   "outputs": [],
   "source": [
    "import numpy as np\n",
    "\n",
    "class FCLayer(Layer):\n",
    "    def __init__(self, input_size, output_size):\n",
    "        self.weights = np.random.rand(input_size, output_size) - 0.5\n",
    "        self.bias = np.random.rand(1, output_size) - 0.5\n",
    "        \n",
    "    def forward_propagation(self, input_data):\n",
    "        self.input = input_data\n",
    "        self.output = np.dot(self.input, self.weights) + self.bias\n",
    "        return self.output\n",
    "    \n",
    "    def backward_propagation(self, output_error, learning_rate):\n",
    "        input_error = np.dot(output_error, self.weights.T)\n",
    "        weights_error = np.dot(self.input.T, output_error)\n",
    "        \n",
    "        self.weights -= learning_rate * weights_error\n",
    "        self.bias -= learning_rate * output_error\n",
    "        return input_error"
   ]
  },
  {
   "cell_type": "code",
   "execution_count": 3,
   "id": "d3d1048e",
   "metadata": {},
   "outputs": [],
   "source": [
    "class ActivationLayer(Layer):\n",
    "    def __init__(self, activation, activation_prime):\n",
    "        self.activation = activation\n",
    "        self.activation_prime = activation_prime\n",
    "        \n",
    "    def forward_propagation(self, input_data):\n",
    "        self.input = input_data\n",
    "        self.output = self.activation(self.input)\n",
    "        return self.output\n",
    "    \n",
    "    def backward_propagation(self, output_error, learning_rate):\n",
    "        return self.activation_prime(self.input) * output_error"
   ]
  },
  {
   "cell_type": "code",
   "execution_count": 4,
   "id": "d52811c3",
   "metadata": {},
   "outputs": [],
   "source": [
    "def tanh(x):\n",
    "    return np.tanh(x)\n",
    "\n",
    "def tanh_prime(x):\n",
    "    return 1 - np.tanh(x)**2"
   ]
  },
  {
   "cell_type": "code",
   "execution_count": 5,
   "id": "56970b25",
   "metadata": {},
   "outputs": [],
   "source": [
    "def mse(y_true, y_pred):\n",
    "    return np.mean(np.power(y_true-y_pred, 2))\n",
    "\n",
    "def mse_prime(y_true, y_pred):\n",
    "    return 2*(y_pred-y_true)/y_true.size"
   ]
  },
  {
   "cell_type": "code",
   "execution_count": 6,
   "id": "9eaf55b0",
   "metadata": {},
   "outputs": [],
   "source": [
    "class Network:\n",
    "    def __init__(self):\n",
    "        self.layers = []\n",
    "        self.loss = None\n",
    "        self.loss_prime = None\n",
    "        self.error_tape = []\n",
    "        self.accuracy_tape = []\n",
    "        self.cat_accuracy_tape = []\n",
    "        \n",
    "    def add(self, layer):\n",
    "        self.layers.append(layer)\n",
    "        \n",
    "    def use(self, loss, loss_prime):\n",
    "        self.loss = loss\n",
    "        self.loss_prime = loss_prime\n",
    "        \n",
    "    def predict(self, input_data):\n",
    "        samples = len(input_data)\n",
    "        result = []\n",
    "        \n",
    "        for i in range(samples):\n",
    "            output = input_data[i]\n",
    "            for layer in self.layers:\n",
    "                output = layer.forward_propagation(output)\n",
    "            result.append(output)\n",
    "            \n",
    "        return result\n",
    "    \n",
    "    def categorical_accuracy(self, x_train, y_train):\n",
    "        predict = self.predict(x_train)\n",
    "        cat_accuracy = []\n",
    "        for i in range(len(predict)):\n",
    "            if y_train[i] == 1:\n",
    "                if (predict[i] > 0.5):\n",
    "                    cat_accuracy.append(1)\n",
    "                    \n",
    "                else:\n",
    "                    cat_accuracy.append(0)\n",
    "                    \n",
    "            else:\n",
    "                if (predict[i] < 0.5):\n",
    "                    cat_accuracy.append(1)\n",
    "                    \n",
    "                else:\n",
    "                    cat_accuracy.append(0)\n",
    "                    \n",
    "        return np.average(np.array(cat_accuracy))\n",
    "    \n",
    "    def fit(self, x_train, y_train, epochs, learning_rate):\n",
    "        samples = len(x_train)\n",
    "        \n",
    "        for i in range(epochs):\n",
    "            err = 0\n",
    "            for j in range(samples):\n",
    "                output = x_train[j]\n",
    "                for layer in self.layers:\n",
    "                    output = layer.forward_propagation(output)\n",
    "                    \n",
    "                err += self.loss(y_train[j], output)\n",
    "                \n",
    "                error = self.loss_prime(y_train[j], output)\n",
    "                for layer in reversed(self.layers):\n",
    "                    error = layer.backward_propagation(error, learning_rate)\n",
    "                    \n",
    "#             predict = np.array(self.predict(x_train))\n",
    "#             accuracy_array = np.divide(1 - np.abs(predict - y_train), 1)\n",
    "#             accuracy = np.average(accuracy_array)\n",
    "                    \n",
    "            err /= samples\n",
    "            self.error_tape.append(err)\n",
    "#             self.accuracy_tape.append(accuracy)\n",
    "#             self.cat_accuracy_tape.append(self.categorical_accuracy(x_train, y_train))\n",
    "            print('epoch %d/%d error=%f' % (i+1, epochs, err))"
   ]
  },
  {
   "cell_type": "code",
   "execution_count": 7,
   "id": "49375fe8",
   "metadata": {},
   "outputs": [
    {
     "name": "stdout",
     "output_type": "stream",
     "text": [
      "epoch 1/35 error=0.238473\n",
      "epoch 2/35 error=0.106689\n",
      "epoch 3/35 error=0.081698\n",
      "epoch 4/35 error=0.063923\n",
      "epoch 5/35 error=0.053442\n",
      "epoch 6/35 error=0.046235\n",
      "epoch 7/35 error=0.040705\n",
      "epoch 8/35 error=0.036520\n",
      "epoch 9/35 error=0.032735\n",
      "epoch 10/35 error=0.029470\n",
      "epoch 11/35 error=0.026674\n",
      "epoch 12/35 error=0.024050\n",
      "epoch 13/35 error=0.021689\n",
      "epoch 14/35 error=0.019708\n",
      "epoch 15/35 error=0.017893\n",
      "epoch 16/35 error=0.016432\n",
      "epoch 17/35 error=0.015271\n",
      "epoch 18/35 error=0.014362\n",
      "epoch 19/35 error=0.013536\n",
      "epoch 20/35 error=0.012724\n",
      "epoch 21/35 error=0.012041\n",
      "epoch 22/35 error=0.011483\n",
      "epoch 23/35 error=0.010981\n",
      "epoch 24/35 error=0.010510\n",
      "epoch 25/35 error=0.010012\n",
      "epoch 26/35 error=0.009621\n",
      "epoch 27/35 error=0.009209\n",
      "epoch 28/35 error=0.008897\n",
      "epoch 29/35 error=0.008552\n",
      "epoch 30/35 error=0.008251\n",
      "epoch 31/35 error=0.007875\n",
      "epoch 32/35 error=0.007653\n",
      "epoch 33/35 error=0.007403\n",
      "epoch 34/35 error=0.007175\n",
      "epoch 35/35 error=0.006955\n",
      "\n",
      "\n",
      "predicted values : \n",
      "[array([[-0.00275327,  0.01628546, -0.04103831, -0.00788788,  0.00712503,\n",
      "        -0.00532445,  0.01790661,  0.98252064,  0.02772414, -0.02842102]]), array([[ 0.07506469,  0.02387489,  0.50519559,  0.01355483, -0.04957387,\n",
      "         0.12776046,  0.32894385,  0.0247607 ,  0.13627795,  0.03402092]]), array([[ 0.01304435,  0.95319158,  0.17708394, -0.02148672,  0.09230536,\n",
      "         0.05903519, -0.01692709,  0.05100953, -0.15937609, -0.10205574]])]\n",
      "true values : \n",
      "[[0. 0. 0. 0. 0. 0. 0. 1. 0. 0.]\n",
      " [0. 0. 1. 0. 0. 0. 0. 0. 0. 0.]\n",
      " [0. 1. 0. 0. 0. 0. 0. 0. 0. 0.]]\n"
     ]
    }
   ],
   "source": [
    "from keras.datasets import mnist\n",
    "from keras.utils import np_utils\n",
    "\n",
    "# load MNIST from server\n",
    "(x_train, y_train), (x_test, y_test) = mnist.load_data()\n",
    "\n",
    "# training data : 60000 samples\n",
    "# reshape and normalize input data\n",
    "x_train = x_train.reshape(x_train.shape[0], 1, 28*28)\n",
    "x_train = x_train.astype('float32')\n",
    "x_train /= 255\n",
    "# encode output which is a number in range [0,9] into a vector of size 10\n",
    "# e.g. number 3 will become [0, 0, 0, 1, 0, 0, 0, 0, 0, 0]\n",
    "y_train = np_utils.to_categorical(y_train)\n",
    "\n",
    "# same for test data : 10000 samples\n",
    "x_test = x_test.reshape(x_test.shape[0], 1, 28*28)\n",
    "x_test = x_test.astype('float32')\n",
    "x_test /= 255\n",
    "y_test = np_utils.to_categorical(y_test)\n",
    "\n",
    "# Network\n",
    "net = Network()\n",
    "net.add(FCLayer(28*28, 100))                # input_shape=(1, 28*28)    ;   output_shape=(1, 100)\n",
    "net.add(ActivationLayer(tanh, tanh_prime))\n",
    "net.add(FCLayer(100, 50))                   # input_shape=(1, 100)      ;   output_shape=(1, 50)\n",
    "net.add(ActivationLayer(tanh, tanh_prime))\n",
    "net.add(FCLayer(50, 10))                    # input_shape=(1, 50)       ;   output_shape=(1, 10)\n",
    "net.add(ActivationLayer(tanh, tanh_prime))\n",
    "\n",
    "# train on 1000 samples\n",
    "# as we didn't implemented mini-batch GD, training will be pretty slow if we update at each iteration on 60000 samples...\n",
    "net.use(mse, mse_prime)\n",
    "net.fit(x_train[0:1000], y_train[0:1000], epochs=35, learning_rate=0.1)\n",
    "\n",
    "# test on 3 samples\n",
    "out = net.predict(x_test[0:3])\n",
    "print(\"\\n\")\n",
    "print(\"predicted values : \")\n",
    "print(out, end=\"\\n\")\n",
    "print(\"true values : \")\n",
    "print(y_test[0:3])"
   ]
  },
  {
   "cell_type": "code",
   "execution_count": 8,
   "id": "bb6f72d8",
   "metadata": {},
   "outputs": [],
   "source": [
    "import matplotlib.pyplot as plt"
   ]
  },
  {
   "cell_type": "code",
   "execution_count": 9,
   "id": "1e26590d",
   "metadata": {},
   "outputs": [
    {
     "data": {
      "text/plain": [
       "[<matplotlib.lines.Line2D at 0x1aedb76f388>]"
      ]
     },
     "execution_count": 9,
     "metadata": {},
     "output_type": "execute_result"
    },
    {
     "data": {
      "image/png": "[encoded data removed]",
      "text/plain": [
       "<Figure size 432x288 with 1 Axes>"
      ]
     },
     "metadata": {
      "needs_background": "light"
     },
     "output_type": "display_data"
    }
   ],
   "source": [
    "plt.xlabel(\"epoch\")\n",
    "plt.ylabel(\"error\")\n",
    "plt.title(\"Error\")\n",
    "plt.plot(range(len(net.error_tape)), net.error_tape)"
   ]
  },
  {
   "cell_type": "code",
   "execution_count": 10,
   "id": "9c6a37a3",
   "metadata": {},
   "outputs": [
    {
     "data": {
      "text/plain": [
       "[<matplotlib.lines.Line2D at 0x1aedb856cc8>]"
      ]
     },
     "execution_count": 10,
     "metadata": {},
     "output_type": "execute_result"
    },
    {
     "data": {
      "image/png": "[encoded data removed]",
      "text/plain": [
       "<Figure size 432x288 with 1 Axes>"
      ]
     },
     "metadata": {
      "needs_background": "light"
     },
     "output_type": "display_data"
    }
   ],
   "source": [
    "plt.xlabel(\"epochs\")\n",
    "plt.ylabel(\"accuracy\")\n",
    "plt.title(\"Percent Accuracy\")\n",
    "plt.plot(range(len(net.accuracy_tape)), net.accuracy_tape)"
   ]
  },
  {
   "cell_type": "code",
   "execution_count": 11,
   "id": "3dc6fcd3",
   "metadata": {},
   "outputs": [
    {
     "ename": "IndexError",
     "evalue": "list index out of range",
     "output_type": "error",
     "traceback": [
      "\u001b[1;31m---------------------------------------------------------------------------\u001b[0m",
      "\u001b[1;31mIndexError\u001b[0m                                Traceback (most recent call last)",
      "\u001b[1;32m~\\AppData\\Local\\Temp/ipykernel_18844/4047494549.py\u001b[0m in \u001b[0;36m<module>\u001b[1;34m\u001b[0m\n\u001b[1;32m----> 1\u001b[1;33m \u001b[0mprint\u001b[0m\u001b[1;33m(\u001b[0m\u001b[0mnet\u001b[0m\u001b[1;33m.\u001b[0m\u001b[0maccuracy_tape\u001b[0m\u001b[1;33m[\u001b[0m\u001b[1;33m-\u001b[0m\u001b[1;36m1\u001b[0m\u001b[1;33m]\u001b[0m\u001b[1;33m)\u001b[0m\u001b[1;33m\u001b[0m\u001b[1;33m\u001b[0m\u001b[0m\n\u001b[0m",
      "\u001b[1;31mIndexError\u001b[0m: list index out of range"
     ]
    }
   ],
   "source": [
    "print(net.accuracy_tape[-1])"
   ]
  },
  {
   "cell_type": "code",
   "execution_count": null,
   "id": "d4528093",
   "metadata": {},
   "outputs": [],
   "source": [
    "plt.xlabel(\"epoch\")\n",
    "plt.ylabel(\"accuracy\")\n",
    "plt.title(\"Categorical Accuracy\")\n",
    "plt.plot(range(len(net.cat_accuracy_tape)), net.cat_accuracy_tape)"
   ]
  },
  {
   "cell_type": "code",
   "execution_count": 2,
   "id": "628a8f69",
   "metadata": {},
   "outputs": [
    {
     "name": "stdout",
     "output_type": "stream",
     "text": [
      "0\n"
     ]
    }
   ],
   "source": [
    "print(1 * (2 > 3))"
   ]
  },
  {
   "cell_type": "code",
   "execution_count": null,
   "id": "9f3fa4b7",
   "metadata": {},
   "outputs": [],
   "source": []
  }
 ],
 "metadata": {
  "kernelspec": {
   "display_name": "Python 3 (ipykernel)",
   "language": "python",
   "name": "python3"
  },
  "language_info": {
   "codemirror_mode": {
    "name": "ipython",
    "version": 3
   },
   "file_extension": ".py",
   "mimetype": "text/x-python",
   "name": "python",
   "nbconvert_exporter": "python",
   "pygments_lexer": "ipython3",
   "version": "3.7.11"
  }
 },
 "nbformat": 4,
 "nbformat_minor": 5
}
