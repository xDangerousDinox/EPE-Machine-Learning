{
 "cells": [
  {
   "cell_type": "code",
   "execution_count": 1,
   "id": "49ec786d",
   "metadata": {},
   "outputs": [],
   "source": [
    "import numpy as np\n",
    "import tensorflow as tf"
   ]
  },
  {
   "cell_type": "code",
   "execution_count": 2,
   "id": "a4bd55a9",
   "metadata": {},
   "outputs": [],
   "source": [
    "(x_train, y_train), (x_test, y_test) = tf.keras.datasets.cifar10.load_data()"
   ]
  },
  {
   "cell_type": "code",
   "execution_count": 3,
   "id": "9a2a40cd",
   "metadata": {},
   "outputs": [
    {
     "data": {
      "text/plain": [
       "(10000, 1)"
      ]
     },
     "execution_count": 3,
     "metadata": {},
     "output_type": "execute_result"
    }
   ],
   "source": [
    "y_test.shape"
   ]
  },
  {
   "cell_type": "code",
   "execution_count": 4,
   "id": "a814378a",
   "metadata": {},
   "outputs": [],
   "source": [
    "x_train = x_train / 255"
   ]
  },
  {
   "cell_type": "code",
   "execution_count": 5,
   "id": "a32780ae",
   "metadata": {},
   "outputs": [],
   "source": [
    "x_test = x_test / 255"
   ]
  },
  {
   "cell_type": "code",
   "execution_count": 6,
   "id": "a7393be5",
   "metadata": {},
   "outputs": [],
   "source": [
    "model = tf.keras.models.Sequential([\n",
    "    tf.keras.layers.Conv2D(2, 3, activation='relu', padding='same', input_shape=(32, 32, 3)),\n",
    "    tf.keras.layers.Flatten(),\n",
    "    tf.keras.layers.Dense(128, activation='relu'),\n",
    "    tf.keras.layers.Dense(10, activation='softmax')\n",
    "])"
   ]
  },
  {
   "cell_type": "code",
   "execution_count": 7,
   "id": "9dcd5f78",
   "metadata": {},
   "outputs": [],
   "source": [
    "model.compile(optimizer='adam', loss='sparse_categorical_crossentropy', metrics=['accuracy'])"
   ]
  },
  {
   "cell_type": "code",
   "execution_count": 8,
   "id": "1884bbaa",
   "metadata": {},
   "outputs": [
    {
     "name": "stdout",
     "output_type": "stream",
     "text": [
      "Epoch 1/15\n",
      "1563/1563 [==============================] - 42s 26ms/step - loss: 1.4612 - accuracy: 0.4828 - val_loss: 1.2833 - val_accuracy: 0.5454\n",
      "Epoch 2/15\n",
      "1563/1563 [==============================] - 41s 26ms/step - loss: 1.1435 - accuracy: 0.5973 - val_loss: 1.1914 - val_accuracy: 0.5793\n",
      "Epoch 3/15\n",
      "1563/1563 [==============================] - 41s 26ms/step - loss: 0.9876 - accuracy: 0.6530 - val_loss: 1.1479 - val_accuracy: 0.5979\n",
      "Epoch 4/15\n",
      "1563/1563 [==============================] - 42s 27ms/step - loss: 0.8450 - accuracy: 0.7041 - val_loss: 1.1660 - val_accuracy: 0.6002\n",
      "Epoch 5/15\n",
      "1563/1563 [==============================] - 41s 27ms/step - loss: 0.7060 - accuracy: 0.7521 - val_loss: 1.2204 - val_accuracy: 0.5986\n",
      "Epoch 6/15\n",
      "1563/1563 [==============================] - 41s 27ms/step - loss: 0.5762 - accuracy: 0.7990 - val_loss: 1.3070 - val_accuracy: 0.6053\n",
      "Epoch 7/15\n",
      "1563/1563 [==============================] - 41s 26ms/step - loss: 0.4618 - accuracy: 0.8385 - val_loss: 1.4570 - val_accuracy: 0.5862\n",
      "Epoch 8/15\n",
      "1563/1563 [==============================] - 41s 26ms/step - loss: 0.3606 - accuracy: 0.8761 - val_loss: 1.6082 - val_accuracy: 0.6003\n",
      "Epoch 9/15\n",
      "1563/1563 [==============================] - 41s 26ms/step - loss: 0.2782 - accuracy: 0.9051 - val_loss: 1.7492 - val_accuracy: 0.5870\n",
      "Epoch 10/15\n",
      "1563/1563 [==============================] - 42s 27ms/step - loss: 0.2165 - accuracy: 0.9284 - val_loss: 1.9132 - val_accuracy: 0.5849\n",
      "Epoch 11/15\n",
      "1563/1563 [==============================] - 41s 26ms/step - loss: 0.1753 - accuracy: 0.9414 - val_loss: 2.1602 - val_accuracy: 0.5791\n",
      "Epoch 12/15\n",
      "1563/1563 [==============================] - 42s 27ms/step - loss: 0.1417 - accuracy: 0.9545 - val_loss: 2.3004 - val_accuracy: 0.5814\n",
      "Epoch 13/15\n",
      "1563/1563 [==============================] - 42s 27ms/step - loss: 0.1240 - accuracy: 0.9591 - val_loss: 2.5516 - val_accuracy: 0.5752\n",
      "Epoch 14/15\n",
      "1563/1563 [==============================] - 41s 26ms/step - loss: 0.1089 - accuracy: 0.9637 - val_loss: 2.6934 - val_accuracy: 0.5761\n",
      "Epoch 15/15\n",
      "1563/1563 [==============================] - 41s 26ms/step - loss: 0.1001 - accuracy: 0.9674 - val_loss: 2.8465 - val_accuracy: 0.5830\n"
     ]
    },
    {
     "data": {
      "text/plain": [
       "<keras.callbacks.History at 0x1f04a4e1e48>"
      ]
     },
     "execution_count": 8,
     "metadata": {},
     "output_type": "execute_result"
    }
   ],
   "source": [
    "model.fit(x_train, y_train, epochs=15, validation_data=(x_test, y_test))"
   ]
  },
  {
   "cell_type": "code",
   "execution_count": 38,
   "id": "eb8938b4",
   "metadata": {},
   "outputs": [
    {
     "data": {
      "text/plain": [
       "<matplotlib.image.AxesImage at 0x1f04f866288>"
      ]
     },
     "execution_count": 38,
     "metadata": {},
     "output_type": "execute_result"
    },
    {
     "data": {
      "image/png": "[encoded data removed]",
      "text/plain": [
       "<Figure size 432x288 with 1 Axes>"
      ]
     },
     "metadata": {
      "needs_background": "light"
     },
     "output_type": "display_data"
    }
   ],
   "source": [
    "import matplotlib.pyplot as plt\n",
    "import matplotlib.image as mpimg\n",
    "plt.imshow(x_train[7])"
   ]
  },
  {
   "cell_type": "code",
   "execution_count": 31,
   "id": "d3bd4c07",
   "metadata": {},
   "outputs": [
    {
     "name": "stdout",
     "output_type": "stream",
     "text": [
      "[[3.3009528e-07 3.7875224e-03 2.7790479e-16 3.2475292e-13 5.9262215e-16\n",
      "  1.9621307e-19 6.1499308e-20 1.1565096e-17 9.9595213e-01 2.6001871e-04]]\n"
     ]
    }
   ],
   "source": [
    "print(model.predict(x_test[1:2]))"
   ]
  },
  {
   "cell_type": "code",
   "execution_count": 27,
   "id": "bc023b11",
   "metadata": {},
   "outputs": [
    {
     "name": "stdout",
     "output_type": "stream",
     "text": [
      "[6]\n"
     ]
    }
   ],
   "source": [
    "print(y_train[0])"
   ]
  },
  {
   "cell_type": "code",
   "execution_count": 32,
   "id": "dbc6afd1",
   "metadata": {},
   "outputs": [],
   "source": [
    "label = ['airplane', 'automobile', 'bird', 'cat', 'deer', 'dog', 'car', 'horse', 'ship', 'truck']"
   ]
  },
  {
   "cell_type": "code",
   "execution_count": 123,
   "id": "5cc6299c",
   "metadata": {},
   "outputs": [
    {
     "name": "stdout",
     "output_type": "stream",
     "text": [
      "truck\n"
     ]
    },
    {
     "data": {
      "text/plain": [
       "<matplotlib.image.AxesImage at 0x1f054280bc8>"
      ]
     },
     "execution_count": 123,
     "metadata": {},
     "output_type": "execute_result"
    },
    {
     "data": {
      "image/png": "[encoded data removed]",
      "text/plain": [
       "<Figure size 432x288 with 1 Axes>"
      ]
     },
     "metadata": {
      "needs_background": "light"
     },
     "output_type": "display_data"
    }
   ],
   "source": [
    "n = 50\n",
    "pred = model(x_test[n:n+1])\n",
    "print(label[np.where(pred == np.amax(pred))[1][0]])\n",
    "plt.imshow(x_test[n])"
   ]
  },
  {
   "cell_type": "code",
   "execution_count": null,
   "id": "e0316fb7",
   "metadata": {},
   "outputs": [],
   "source": []
  }
 ],
 "metadata": {
  "kernelspec": {
   "display_name": "Python 3 (ipykernel)",
   "language": "python",
   "name": "python3"
  },
  "language_info": {
   "codemirror_mode": {
    "name": "ipython",
    "version": 3
   },
   "file_extension": ".py",
   "mimetype": "text/x-python",
   "name": "python",
   "nbconvert_exporter": "python",
   "pygments_lexer": "ipython3",
   "version": "3.7.11"
  }
 },
 "nbformat": 4,
 "nbformat_minor": 5
}
